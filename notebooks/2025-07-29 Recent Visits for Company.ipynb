{
 "cells": [
  {
   "cell_type": "code",
   "execution_count": 1,
   "id": "44af63e4",
   "metadata": {},
   "outputs": [],
   "source": [
    "import datetime\n",
    "import sys\n",
    "\n",
    "sys.path.append(\"..\")\n",
    "\n",
    "from src.auth.aurora import get_portal_client, get_sales_client"
   ]
  },
  {
   "cell_type": "code",
   "execution_count": 2,
   "id": "4c1737a9",
   "metadata": {},
   "outputs": [],
   "source": [
    "portal_client = get_portal_client()\n",
    "sales_client = get_sales_client()"
   ]
  },
  {
   "cell_type": "code",
   "execution_count": 3,
   "id": "0e6b34e9",
   "metadata": {},
   "outputs": [],
   "source": [
    "client_id = \"03dd22e9-4203-11ec-be49-061393e0f1a7\""
   ]
  },
  {
   "cell_type": "code",
   "execution_count": 4,
   "id": "6f16df34",
   "metadata": {},
   "outputs": [],
   "source": [
    "device_serials = sales_client.query_to_list(\n",
    "    \"\"\"SELECT DISTINCT device_id\n",
    "    FROM sales.t_subscription AS s\n",
    "    INNER JOIN sales.t_orders AS o\n",
    "    USING(order_number)\n",
    "    LEFT JOIN sales.t_cancellation AS c\n",
    "    USING(subscription_id)\n",
    "    WHERE client_id = %(client_id)s\n",
    "    AND item_code = \"101-104-02\"\n",
    "    AND c.cancel_date IS NULL\n",
    "    AND s.expiry_date > current_date()\"\"\",\n",
    "    {\"client_id\": client_id},\n",
    ")"
   ]
  },
  {
   "cell_type": "code",
   "execution_count": 5,
   "id": "db3f8ecf",
   "metadata": {},
   "outputs": [
    {
     "data": {
      "text/plain": [
       "68"
      ]
     },
     "execution_count": 5,
     "metadata": {},
     "output_type": "execute_result"
    }
   ],
   "source": [
    "len(device_serials)"
   ]
  },
  {
   "cell_type": "code",
   "execution_count": 6,
   "id": "9e950d7d",
   "metadata": {},
   "outputs": [],
   "source": [
    "placeholders = ', '.join(['%s'] * len(device_serials))\n",
    "go_usage_df = portal_client.query_to_pandas(\n",
    "    f\"\"\"SELECT\n",
    "        d.id,\n",
    "        d.device_serial,\n",
    "        d.name,\n",
    "        d.created_at,\n",
    "        greatest(MAX(d_c.ended_at), MAX(d_c.created_at)) AS last_connected\n",
    "    FROM topaz.api_devices AS d\n",
    "    LEFT JOIN topaz.api_device_connections AS d_c\n",
    "    ON d_c.device_id = d.id\n",
    "    WHERE d.device_type_id = 14\n",
    "    AND d.device_serial IN ({placeholders})\n",
    "    AND d.deleted_at IS NULL\n",
    "    GROUP BY d.id, d.name\"\"\",\n",
    "    params=device_serials\n",
    ")"
   ]
  },
  {
   "cell_type": "code",
   "execution_count": 7,
   "id": "f66157de",
   "metadata": {},
   "outputs": [],
   "source": [
    "go_usage_df.sort_values(\"last_connected\").to_csv(\"data/2025-07-29 Recent Visits for Marlowe.csv\")"
   ]
  },
  {
   "cell_type": "code",
   "execution_count": 8,
   "id": "c50b5ee4",
   "metadata": {},
   "outputs": [
    {
     "data": {
      "text/html": [
       "<div>\n",
       "<style scoped>\n",
       "    .dataframe tbody tr th:only-of-type {\n",
       "        vertical-align: middle;\n",
       "    }\n",
       "\n",
       "    .dataframe tbody tr th {\n",
       "        vertical-align: top;\n",
       "    }\n",
       "\n",
       "    .dataframe thead th {\n",
       "        text-align: right;\n",
       "    }\n",
       "</style>\n",
       "<table border=\"1\" class=\"dataframe\">\n",
       "  <thead>\n",
       "    <tr style=\"text-align: right;\">\n",
       "      <th></th>\n",
       "      <th>id</th>\n",
       "      <th>device_serial</th>\n",
       "      <th>name</th>\n",
       "      <th>created_at</th>\n",
       "      <th>last_connected</th>\n",
       "    </tr>\n",
       "  </thead>\n",
       "  <tbody>\n",
       "    <tr>\n",
       "      <th>0</th>\n",
       "      <td>22206</td>\n",
       "      <td>G01-00941</td>\n",
       "      <td>Adam Prendergast (G01-00941)</td>\n",
       "      <td>2024-11-09 15:10:51</td>\n",
       "      <td>2025-07-16 13:31:47</td>\n",
       "    </tr>\n",
       "    <tr>\n",
       "      <th>1</th>\n",
       "      <td>23354</td>\n",
       "      <td>G01-01107</td>\n",
       "      <td>Dom Wharton (G01-01107)</td>\n",
       "      <td>2025-01-26 09:18:11</td>\n",
       "      <td>2025-07-24 15:01:07</td>\n",
       "    </tr>\n",
       "    <tr>\n",
       "      <th>2</th>\n",
       "      <td>25636</td>\n",
       "      <td>G01-01308</td>\n",
       "      <td>Dale Windmill (G01-01308)</td>\n",
       "      <td>2025-05-31 09:02:22</td>\n",
       "      <td>2025-07-10 07:42:25</td>\n",
       "    </tr>\n",
       "    <tr>\n",
       "      <th>3</th>\n",
       "      <td>25637</td>\n",
       "      <td>G01-01309</td>\n",
       "      <td>Frank Andrady (G01-01309)</td>\n",
       "      <td>2025-05-31 09:03:47</td>\n",
       "      <td>2025-07-10 11:00:16</td>\n",
       "    </tr>\n",
       "    <tr>\n",
       "      <th>4</th>\n",
       "      <td>25638</td>\n",
       "      <td>G01-01310</td>\n",
       "      <td>Harley Page (G01-01310)</td>\n",
       "      <td>2025-05-31 09:36:38</td>\n",
       "      <td>2025-07-30 10:19:38</td>\n",
       "    </tr>\n",
       "    <tr>\n",
       "      <th>...</th>\n",
       "      <td>...</td>\n",
       "      <td>...</td>\n",
       "      <td>...</td>\n",
       "      <td>...</td>\n",
       "      <td>...</td>\n",
       "    </tr>\n",
       "    <tr>\n",
       "      <th>63</th>\n",
       "      <td>26949</td>\n",
       "      <td>G01-01454</td>\n",
       "      <td>None</td>\n",
       "      <td>2025-07-26 18:57:31</td>\n",
       "      <td>2025-07-26 19:03:37</td>\n",
       "    </tr>\n",
       "    <tr>\n",
       "      <th>64</th>\n",
       "      <td>26950</td>\n",
       "      <td>G01-01455</td>\n",
       "      <td>None</td>\n",
       "      <td>2025-07-26 19:00:28</td>\n",
       "      <td>2025-07-26 19:07:07</td>\n",
       "    </tr>\n",
       "    <tr>\n",
       "      <th>65</th>\n",
       "      <td>26951</td>\n",
       "      <td>G01-01456</td>\n",
       "      <td>None</td>\n",
       "      <td>2025-07-26 19:02:28</td>\n",
       "      <td>2025-07-26 19:09:28</td>\n",
       "    </tr>\n",
       "    <tr>\n",
       "      <th>66</th>\n",
       "      <td>26952</td>\n",
       "      <td>G01-01457</td>\n",
       "      <td>None</td>\n",
       "      <td>2025-07-26 19:06:03</td>\n",
       "      <td>2025-07-26 19:11:56</td>\n",
       "    </tr>\n",
       "    <tr>\n",
       "      <th>67</th>\n",
       "      <td>26953</td>\n",
       "      <td>G01-01458</td>\n",
       "      <td>None</td>\n",
       "      <td>2025-07-26 19:10:13</td>\n",
       "      <td>2025-07-26 19:18:30</td>\n",
       "    </tr>\n",
       "  </tbody>\n",
       "</table>\n",
       "<p>68 rows × 5 columns</p>\n",
       "</div>"
      ],
      "text/plain": [
       "       id device_serial                          name          created_at  \\\n",
       "0   22206     G01-00941  Adam Prendergast (G01-00941) 2024-11-09 15:10:51   \n",
       "1   23354     G01-01107       Dom Wharton (G01-01107) 2025-01-26 09:18:11   \n",
       "2   25636     G01-01308     Dale Windmill (G01-01308) 2025-05-31 09:02:22   \n",
       "3   25637     G01-01309     Frank Andrady (G01-01309) 2025-05-31 09:03:47   \n",
       "4   25638     G01-01310       Harley Page (G01-01310) 2025-05-31 09:36:38   \n",
       "..    ...           ...                           ...                 ...   \n",
       "63  26949     G01-01454                          None 2025-07-26 18:57:31   \n",
       "64  26950     G01-01455                          None 2025-07-26 19:00:28   \n",
       "65  26951     G01-01456                          None 2025-07-26 19:02:28   \n",
       "66  26952     G01-01457                          None 2025-07-26 19:06:03   \n",
       "67  26953     G01-01458                          None 2025-07-26 19:10:13   \n",
       "\n",
       "        last_connected  \n",
       "0  2025-07-16 13:31:47  \n",
       "1  2025-07-24 15:01:07  \n",
       "2  2025-07-10 07:42:25  \n",
       "3  2025-07-10 11:00:16  \n",
       "4  2025-07-30 10:19:38  \n",
       "..                 ...  \n",
       "63 2025-07-26 19:03:37  \n",
       "64 2025-07-26 19:07:07  \n",
       "65 2025-07-26 19:09:28  \n",
       "66 2025-07-26 19:11:56  \n",
       "67 2025-07-26 19:18:30  \n",
       "\n",
       "[68 rows x 5 columns]"
      ]
     },
     "execution_count": 8,
     "metadata": {},
     "output_type": "execute_result"
    }
   ],
   "source": [
    "go_usage_df"
   ]
  }
 ],
 "metadata": {
  "kernelspec": {
   "display_name": "data-testing-env",
   "language": "python",
   "name": "python3"
  },
  "language_info": {
   "codemirror_mode": {
    "name": "ipython",
    "version": 3
   },
   "file_extension": ".py",
   "mimetype": "text/x-python",
   "name": "python",
   "nbconvert_exporter": "python",
   "pygments_lexer": "ipython3",
   "version": "3.11.11"
  }
 },
 "nbformat": 4,
 "nbformat_minor": 5
}
