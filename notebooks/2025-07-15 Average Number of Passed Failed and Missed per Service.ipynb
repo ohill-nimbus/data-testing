{
 "cells": [
  {
   "cell_type": "code",
   "execution_count": 21,
   "id": "69f03592",
   "metadata": {},
   "outputs": [],
   "source": [
    "import numpy as np\n",
    "import sys\n",
    "\n",
    "sys.path.append(\"..\")\n",
    "\n",
    "from src.auth.aurora import get_portal_client"
   ]
  },
  {
   "cell_type": "code",
   "execution_count": 2,
   "id": "4c372906",
   "metadata": {},
   "outputs": [],
   "source": [
    "portal_client = get_portal_client()"
   ]
  },
  {
   "cell_type": "code",
   "execution_count": 45,
   "id": "1eb20c58",
   "metadata": {},
   "outputs": [],
   "source": [
    "services_df = portal_client.query_to_pandas(\n",
    "    \"\"\"SELECT \n",
    "        tests.mode_change_id,\n",
    "        tests.visit_id,\n",
    "        SUM(\n",
    "            CASE\n",
    "            WHEN tests.tested=\"P\"\n",
    "            AND NOT tests.advisory\n",
    "            THEN 1\n",
    "            ELSE 0\n",
    "            END\n",
    "        ) AS passed,\n",
    "        SUM(\n",
    "            CASE\n",
    "            WHEN tests.tested=\"P\"\n",
    "            AND tests.advisory\n",
    "            THEN 1\n",
    "            ELSE 0\n",
    "            END\n",
    "        ) AS passed_with_advisory,\n",
    "        SUM(\n",
    "            CASE\n",
    "            WHEN tests.tested=\"F\"\n",
    "            THEN 1\n",
    "            ELSE 0\n",
    "            END\n",
    "        ) AS failed\n",
    "    FROM topaz.api_service_tests AS tests\n",
    "    WHERE id >= 9559055\n",
    "    GROUP BY tests.mode_change_id, tests.visit_id\n",
    "    \"\"\"\n",
    ")"
   ]
  },
  {
   "cell_type": "code",
   "execution_count": 46,
   "id": "a8cb7f15",
   "metadata": {},
   "outputs": [],
   "source": [
    "assert np.all(\n",
    "    (\n",
    "        ~services_df[\n",
    "            [\"mode_change_id\", \"visit_id\"]\n",
    "        ].isna()\n",
    "    ).sum(axis=1)\n",
    "    == 1\n",
    ")"
   ]
  },
  {
   "cell_type": "code",
   "execution_count": 47,
   "id": "bcaf2217",
   "metadata": {},
   "outputs": [],
   "source": [
    "services_df[\"service_id\"] = services_df[[\n",
    "    \"mode_change_id\", \"visit_id\"\n",
    "]].bfill(axis=1).iloc[:, 0]"
   ]
  },
  {
   "cell_type": "code",
   "execution_count": 48,
   "id": "f3ec7d8e",
   "metadata": {},
   "outputs": [
    {
     "data": {
      "text/html": [
       "<div>\n",
       "<style scoped>\n",
       "    .dataframe tbody tr th:only-of-type {\n",
       "        vertical-align: middle;\n",
       "    }\n",
       "\n",
       "    .dataframe tbody tr th {\n",
       "        vertical-align: top;\n",
       "    }\n",
       "\n",
       "    .dataframe thead th {\n",
       "        text-align: right;\n",
       "    }\n",
       "</style>\n",
       "<table border=\"1\" class=\"dataframe\">\n",
       "  <thead>\n",
       "    <tr style=\"text-align: right;\">\n",
       "      <th></th>\n",
       "      <th>mode_change_id</th>\n",
       "      <th>visit_id</th>\n",
       "      <th>passed</th>\n",
       "      <th>passed_with_advisory</th>\n",
       "      <th>failed</th>\n",
       "      <th>service_id</th>\n",
       "    </tr>\n",
       "  </thead>\n",
       "  <tbody>\n",
       "    <tr>\n",
       "      <th>0</th>\n",
       "      <td>NaN</td>\n",
       "      <td>105111.0</td>\n",
       "      <td>11</td>\n",
       "      <td>0</td>\n",
       "      <td>0</td>\n",
       "      <td>105111.0</td>\n",
       "    </tr>\n",
       "    <tr>\n",
       "      <th>1</th>\n",
       "      <td>NaN</td>\n",
       "      <td>105107.0</td>\n",
       "      <td>83</td>\n",
       "      <td>25</td>\n",
       "      <td>0</td>\n",
       "      <td>105107.0</td>\n",
       "    </tr>\n",
       "    <tr>\n",
       "      <th>2</th>\n",
       "      <td>NaN</td>\n",
       "      <td>105105.0</td>\n",
       "      <td>6</td>\n",
       "      <td>0</td>\n",
       "      <td>0</td>\n",
       "      <td>105105.0</td>\n",
       "    </tr>\n",
       "    <tr>\n",
       "      <th>3</th>\n",
       "      <td>NaN</td>\n",
       "      <td>105058.0</td>\n",
       "      <td>24</td>\n",
       "      <td>0</td>\n",
       "      <td>0</td>\n",
       "      <td>105058.0</td>\n",
       "    </tr>\n",
       "    <tr>\n",
       "      <th>4</th>\n",
       "      <td>723036.0</td>\n",
       "      <td>NaN</td>\n",
       "      <td>191</td>\n",
       "      <td>0</td>\n",
       "      <td>0</td>\n",
       "      <td>723036.0</td>\n",
       "    </tr>\n",
       "    <tr>\n",
       "      <th>...</th>\n",
       "      <td>...</td>\n",
       "      <td>...</td>\n",
       "      <td>...</td>\n",
       "      <td>...</td>\n",
       "      <td>...</td>\n",
       "      <td>...</td>\n",
       "    </tr>\n",
       "    <tr>\n",
       "      <th>105654</th>\n",
       "      <td>1009793.0</td>\n",
       "      <td>NaN</td>\n",
       "      <td>0</td>\n",
       "      <td>1</td>\n",
       "      <td>0</td>\n",
       "      <td>1009793.0</td>\n",
       "    </tr>\n",
       "    <tr>\n",
       "      <th>105655</th>\n",
       "      <td>1009864.0</td>\n",
       "      <td>NaN</td>\n",
       "      <td>1</td>\n",
       "      <td>0</td>\n",
       "      <td>0</td>\n",
       "      <td>1009864.0</td>\n",
       "    </tr>\n",
       "    <tr>\n",
       "      <th>105656</th>\n",
       "      <td>1009865.0</td>\n",
       "      <td>NaN</td>\n",
       "      <td>1</td>\n",
       "      <td>0</td>\n",
       "      <td>0</td>\n",
       "      <td>1009865.0</td>\n",
       "    </tr>\n",
       "    <tr>\n",
       "      <th>105657</th>\n",
       "      <td>1010030.0</td>\n",
       "      <td>NaN</td>\n",
       "      <td>1</td>\n",
       "      <td>0</td>\n",
       "      <td>0</td>\n",
       "      <td>1010030.0</td>\n",
       "    </tr>\n",
       "    <tr>\n",
       "      <th>105658</th>\n",
       "      <td>1010031.0</td>\n",
       "      <td>NaN</td>\n",
       "      <td>0</td>\n",
       "      <td>0</td>\n",
       "      <td>1</td>\n",
       "      <td>1010031.0</td>\n",
       "    </tr>\n",
       "  </tbody>\n",
       "</table>\n",
       "<p>105659 rows × 6 columns</p>\n",
       "</div>"
      ],
      "text/plain": [
       "        mode_change_id  visit_id passed passed_with_advisory failed  \\\n",
       "0                  NaN  105111.0     11                    0      0   \n",
       "1                  NaN  105107.0     83                   25      0   \n",
       "2                  NaN  105105.0      6                    0      0   \n",
       "3                  NaN  105058.0     24                    0      0   \n",
       "4             723036.0       NaN    191                    0      0   \n",
       "...                ...       ...    ...                  ...    ...   \n",
       "105654       1009793.0       NaN      0                    1      0   \n",
       "105655       1009864.0       NaN      1                    0      0   \n",
       "105656       1009865.0       NaN      1                    0      0   \n",
       "105657       1010030.0       NaN      1                    0      0   \n",
       "105658       1010031.0       NaN      0                    0      1   \n",
       "\n",
       "        service_id  \n",
       "0         105111.0  \n",
       "1         105107.0  \n",
       "2         105105.0  \n",
       "3         105058.0  \n",
       "4         723036.0  \n",
       "...            ...  \n",
       "105654   1009793.0  \n",
       "105655   1009864.0  \n",
       "105656   1009865.0  \n",
       "105657   1010030.0  \n",
       "105658   1010031.0  \n",
       "\n",
       "[105659 rows x 6 columns]"
      ]
     },
     "execution_count": 48,
     "metadata": {},
     "output_type": "execute_result"
    }
   ],
   "source": [
    "services_df"
   ]
  },
  {
   "cell_type": "code",
   "execution_count": 50,
   "id": "2576b3ac",
   "metadata": {},
   "outputs": [],
   "source": [
    "grouped_df = services_df.groupby(\"service_id\").agg(\n",
    "    {\n",
    "        \"passed\": \"sum\",\n",
    "        \"passed_with_advisory\": \"sum\",\n",
    "        \"failed\": \"sum\"\n",
    "    }\n",
    ")\n",
    "grouped_df = grouped_df[grouped_df.sum(axis=1) > 0]"
   ]
  },
  {
   "cell_type": "code",
   "execution_count": 54,
   "id": "cd1c8914",
   "metadata": {},
   "outputs": [
    {
     "data": {
      "text/plain": [
       "service_id\n",
       "64816.0        1\n",
       "87295.0        1\n",
       "87482.0        1\n",
       "90133.0        1\n",
       "90596.0        1\n",
       "              ..\n",
       "176899527.0    1\n",
       "176899528.0    1\n",
       "176899529.0    1\n",
       "176899530.0    1\n",
       "176899532.0    1\n",
       "Length: 105448, dtype: object"
      ]
     },
     "execution_count": 54,
     "metadata": {},
     "output_type": "execute_result"
    }
   ],
   "source": [
    "grouped_df[\"passed\"] / grouped_df.sum(axis=1)"
   ]
  },
  {
   "cell_type": "code",
   "execution_count": 55,
   "id": "9c7f159b",
   "metadata": {},
   "outputs": [
    {
     "data": {
      "text/plain": [
       "service_id\n",
       "64816.0        0\n",
       "87295.0        0\n",
       "87482.0        0\n",
       "90133.0        0\n",
       "90596.0        0\n",
       "              ..\n",
       "176899527.0    0\n",
       "176899528.0    0\n",
       "176899529.0    0\n",
       "176899530.0    0\n",
       "176899532.0    0\n",
       "Length: 105448, dtype: object"
      ]
     },
     "execution_count": 55,
     "metadata": {},
     "output_type": "execute_result"
    }
   ],
   "source": [
    "grouped_df[\"passed_with_advisory\"] / grouped_df.sum(axis=1)"
   ]
  },
  {
   "cell_type": "code",
   "execution_count": 56,
   "id": "4175aa62",
   "metadata": {},
   "outputs": [
    {
     "data": {
      "text/plain": [
       "service_id\n",
       "64816.0        0\n",
       "87295.0        0\n",
       "87482.0        0\n",
       "90133.0        0\n",
       "90596.0        0\n",
       "              ..\n",
       "176899527.0    0\n",
       "176899528.0    0\n",
       "176899529.0    0\n",
       "176899530.0    0\n",
       "176899532.0    0\n",
       "Length: 105448, dtype: object"
      ]
     },
     "execution_count": 56,
     "metadata": {},
     "output_type": "execute_result"
    }
   ],
   "source": [
    "grouped_df[\"failed\"] / grouped_df.sum(axis=1)"
   ]
  }
 ],
 "metadata": {
  "kernelspec": {
   "display_name": "data-testing-env",
   "language": "python",
   "name": "python3"
  },
  "language_info": {
   "codemirror_mode": {
    "name": "ipython",
    "version": 3
   },
   "file_extension": ".py",
   "mimetype": "text/x-python",
   "name": "python",
   "nbconvert_exporter": "python",
   "pygments_lexer": "ipython3",
   "version": "3.11.11"
  }
 },
 "nbformat": 4,
 "nbformat_minor": 5
}
