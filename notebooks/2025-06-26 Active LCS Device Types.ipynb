{
 "cells": [
  {
   "cell_type": "code",
   "execution_count": 1,
   "id": "37b7d622",
   "metadata": {},
   "outputs": [],
   "source": [
    "import sys\n",
    "from tqdm import tqdm\n",
    "\n",
    "sys.path.append(\"..\")\n",
    "\n",
    "from src.auth.aurora import get_portal_client\n"
   ]
  },
  {
   "cell_type": "code",
   "execution_count": 2,
   "id": "29d19c89",
   "metadata": {},
   "outputs": [],
   "source": [
    "portal_client = get_portal_client()"
   ]
  },
  {
   "cell_type": "code",
   "execution_count": 3,
   "id": "39ba6bad",
   "metadata": {},
   "outputs": [],
   "source": [
    "lcs_device_list = portal_client.query_to_list(\n",
    "    \"\"\"SELECT DISTINCT lcs_device_type\n",
    "    FROM api_toc_rows\"\"\"\n",
    ")"
   ]
  },
  {
   "cell_type": "code",
   "execution_count": 4,
   "id": "822ef78f",
   "metadata": {},
   "outputs": [
    {
     "data": {
      "text/plain": [
       "['',\n",
       " '/',\n",
       " '1200 Fitting',\n",
       " '1500 Fitting',\n",
       " '2D Fitting',\n",
       " '600 Fitting',\n",
       " 'Access Controlled Door',\n",
       " 'Alarm/Clear',\n",
       " 'Alarm/Fire',\n",
       " 'Alarm/Normal',\n",
       " 'Alarm/Reset',\n",
       " 'Alarm/Restore',\n",
       " 'Ammonia Gas Sensor',\n",
       " 'AOV Actuator',\n",
       " 'AOV Control Panel',\n",
       " 'Aspirating',\n",
       " 'Barrier Arm',\n",
       " 'battery',\n",
       " 'Beacon',\n",
       " 'BeamDetector',\n",
       " 'Bulk Head',\n",
       " 'CallPoint',\n",
       " 'Carbon Monoxide Gas Sensor',\n",
       " 'CarbonMonoxide',\n",
       " 'CCTV Camera',\n",
       " 'CCTV DVR',\n",
       " 'CCTV Monitor',\n",
       " 'Chemical',\n",
       " 'Class D Powder 9Kg',\n",
       " 'Clear/Fault',\n",
       " 'Close/Normal',\n",
       " 'Close/Open',\n",
       " 'CO2',\n",
       " 'Differential Pressure Switch',\n",
       " 'Disabled refuge',\n",
       " 'Disabled toilet alarm',\n",
       " 'DRS + Fire telephone',\n",
       " 'Dry Powder',\n",
       " 'DualOptoHeat',\n",
       " 'Duty Extract Fan',\n",
       " 'E30',\n",
       " 'E30Sa',\n",
       " 'E30Sa MD',\n",
       " 'E60',\n",
       " 'E60Sa',\n",
       " 'E60Sa MD',\n",
       " 'E90Sa',\n",
       " 'Electronic Automatic Door',\n",
       " 'Emergency Escape Door',\n",
       " 'Emergency Lighting Report',\n",
       " 'Exit Sign',\n",
       " 'External Inputs',\n",
       " 'Fault/Clear',\n",
       " 'Fault/Fault',\n",
       " 'Fault/Normal',\n",
       " 'Fault/Reset',\n",
       " 'Fault/Run',\n",
       " 'FaultInput',\n",
       " 'FD120',\n",
       " 'FD120s',\n",
       " 'FD30',\n",
       " 'FD30s',\n",
       " 'FD60',\n",
       " 'FD60s',\n",
       " 'FD90',\n",
       " 'Fire Alarm Report',\n",
       " 'Fire Blanket',\n",
       " 'Fire Damper',\n",
       " 'Fire Door E30',\n",
       " 'Fire Door E30Sa',\n",
       " 'Fire Door E30Sa MD',\n",
       " 'Fire Door E60',\n",
       " 'Fire Door E60Sa',\n",
       " 'Fire Door E60Sa MD',\n",
       " 'Fire Door E90',\n",
       " 'Fire Door E90Sa',\n",
       " 'Fire Door FD120',\n",
       " 'Fire Door FD120s',\n",
       " 'Fire Door FD20',\n",
       " 'Fire Door FD30',\n",
       " 'Fire Door FD30s',\n",
       " 'Fire Door FD60',\n",
       " 'Fire Door FD60s',\n",
       " 'Fire Door FD90',\n",
       " 'Fire Door FD90s',\n",
       " 'Fire Panel',\n",
       " 'Fire/Clear',\n",
       " 'Fire/Normal',\n",
       " 'Fire/Reset',\n",
       " 'Fire/Restore',\n",
       " 'Firefighter telephone',\n",
       " 'Fireman Key Switch',\n",
       " 'FlameDetector',\n",
       " 'Foam',\n",
       " 'Fuse',\n",
       " 'Gas',\n",
       " 'Hand Transmitter with Meditilt',\n",
       " 'Hearing Loop',\n",
       " 'HeatSensor',\n",
       " 'High/Clear',\n",
       " 'High/Low',\n",
       " 'High/Normal',\n",
       " 'Information',\n",
       " 'Information/Information',\n",
       " 'Information/Off',\n",
       " 'Information/Reset',\n",
       " 'Information/Restore',\n",
       " 'Input',\n",
       " 'Interface',\n",
       " 'Intruder Panel',\n",
       " 'Intruder Pir',\n",
       " 'IonisationSmoke',\n",
       " 'Key Switch',\n",
       " 'Keyswitch',\n",
       " 'Log Book',\n",
       " 'Low/Clear',\n",
       " 'Low/Normal',\n",
       " 'Luminaire',\n",
       " 'MCD',\n",
       " 'Methane Gas Sensor',\n",
       " 'MultiSensor',\n",
       " 'Non Fire Door',\n",
       " 'None',\n",
       " 'NonFireInput',\n",
       " 'Normal/Alarm',\n",
       " 'Normal/Clear',\n",
       " 'Normal/Close',\n",
       " 'Normal/Fault',\n",
       " 'Normal/Fire',\n",
       " 'Normal/Information',\n",
       " 'Normal/Normal',\n",
       " 'Normal/PowerFail',\n",
       " 'Off/Information',\n",
       " 'Off/Restore',\n",
       " 'Off/Run',\n",
       " 'Off/Set',\n",
       " 'Open/Close',\n",
       " 'Open/Restore',\n",
       " 'OpticalSmoke',\n",
       " 'Other',\n",
       " 'Output',\n",
       " 'PA',\n",
       " 'Panic Escape Door',\n",
       " 'Pendant',\n",
       " 'Pin Spot',\n",
       " 'PL Fitting',\n",
       " 'PowerFail/Restore',\n",
       " 'Propane Gas Sensor',\n",
       " 'PSU',\n",
       " 'Relay',\n",
       " 'Repeater Panel',\n",
       " 'Reset/Alarm',\n",
       " 'Reset/Fire',\n",
       " 'Restore/Fault',\n",
       " 'Restore/PowerFail',\n",
       " 'Roller Door',\n",
       " 'Roof Vent',\n",
       " 'Room',\n",
       " 'Run/Clear',\n",
       " 'Run/Fault',\n",
       " 'Run/Normal',\n",
       " 'Run/Off',\n",
       " 'Run/Reset',\n",
       " 'Security Check',\n",
       " 'Set/Off',\n",
       " 'Set/PowerFail',\n",
       " 'Set/Unset',\n",
       " 'Signal Booster',\n",
       " 'Signalling Unit (DualCom)',\n",
       " 'Smoke Damper',\n",
       " 'Sounder',\n",
       " 'Speaker',\n",
       " 'Stand-by Extract Fan',\n",
       " 'Twinspot',\n",
       " 'Universal contact',\n",
       " 'Unknown',\n",
       " 'Voice Alarm Speaker',\n",
       " 'Water',\n",
       " 'Zone Map']"
      ]
     },
     "execution_count": 4,
     "metadata": {},
     "output_type": "execute_result"
    }
   ],
   "source": [
    "lcs_device_list"
   ]
  },
  {
   "cell_type": "code",
   "execution_count": 5,
   "id": "4398c703",
   "metadata": {},
   "outputs": [
    {
     "name": "stderr",
     "output_type": "stream",
     "text": [
      "  0%|          | 0/179 [00:00<?, ?it/s]"
     ]
    },
    {
     "name": "stdout",
     "output_type": "stream",
     "text": [
      "\n",
      "/\n",
      "-----> Active\n",
      "1200 Fitting\n"
     ]
    },
    {
     "name": "stderr",
     "output_type": "stream",
     "text": [
      "  2%|▏         | 3/179 [00:00<00:15, 11.29it/s]"
     ]
    },
    {
     "name": "stdout",
     "output_type": "stream",
     "text": [
      "1500 Fitting\n",
      "2D Fitting\n"
     ]
    },
    {
     "name": "stderr",
     "output_type": "stream",
     "text": [
      "  3%|▎         | 6/179 [00:01<00:35,  4.91it/s]"
     ]
    },
    {
     "name": "stdout",
     "output_type": "stream",
     "text": [
      "600 Fitting\n",
      "Access Controlled Door\n"
     ]
    },
    {
     "name": "stderr",
     "output_type": "stream",
     "text": [
      "  5%|▌         | 9/179 [00:01<00:21,  8.09it/s]"
     ]
    },
    {
     "name": "stdout",
     "output_type": "stream",
     "text": [
      "Alarm/Clear\n",
      "-----> Active\n",
      "Alarm/Fire\n",
      "Alarm/Normal\n",
      "Alarm/Reset\n",
      "-----> Active\n",
      "Alarm/Restore\n"
     ]
    },
    {
     "name": "stderr",
     "output_type": "stream",
     "text": [
      "  8%|▊         | 15/179 [00:01<00:12, 13.40it/s]"
     ]
    },
    {
     "name": "stdout",
     "output_type": "stream",
     "text": [
      "Ammonia Gas Sensor\n",
      "AOV Actuator\n",
      "AOV Control Panel\n",
      "Aspirating\n"
     ]
    },
    {
     "name": "stderr",
     "output_type": "stream",
     "text": [
      " 11%|█         | 19/179 [00:01<00:11, 13.74it/s]"
     ]
    },
    {
     "name": "stdout",
     "output_type": "stream",
     "text": [
      "-----> Active\n",
      "Barrier Arm\n",
      "battery\n",
      "-----> Active\n",
      "Beacon\n",
      "-----> Active\n",
      "BeamDetector\n"
     ]
    },
    {
     "name": "stderr",
     "output_type": "stream",
     "text": [
      " 13%|█▎        | 23/179 [00:03<00:30,  5.08it/s]"
     ]
    },
    {
     "name": "stdout",
     "output_type": "stream",
     "text": [
      "-----> Active\n",
      "Bulk Head\n",
      "CallPoint\n",
      "-----> Active\n",
      "Carbon Monoxide Gas Sensor\n"
     ]
    },
    {
     "name": "stderr",
     "output_type": "stream",
     "text": [
      " 14%|█▍        | 25/179 [00:03<00:26,  5.82it/s]"
     ]
    },
    {
     "name": "stdout",
     "output_type": "stream",
     "text": [
      "CarbonMonoxide\n",
      "-----> Active\n",
      "CCTV Camera\n",
      "CCTV DVR\n",
      "CCTV Monitor\n",
      "Chemical\n"
     ]
    },
    {
     "name": "stderr",
     "output_type": "stream",
     "text": [
      " 17%|█▋        | 31/179 [00:04<00:19,  7.70it/s]"
     ]
    },
    {
     "name": "stdout",
     "output_type": "stream",
     "text": [
      "Class D Powder 9Kg\n",
      "Clear/Fault\n",
      "Close/Normal\n",
      "-----> Active\n",
      "Close/Open\n",
      "-----> Active\n",
      "CO2\n"
     ]
    },
    {
     "name": "stderr",
     "output_type": "stream",
     "text": [
      " 18%|█▊        | 33/179 [00:10<01:59,  1.22it/s]"
     ]
    },
    {
     "name": "stdout",
     "output_type": "stream",
     "text": [
      "Differential Pressure Switch\n",
      "Disabled refuge\n",
      "-----> Active\n",
      "Disabled toilet alarm\n",
      "-----> Active\n",
      "DRS + Fire telephone\n",
      "-----> Active\n",
      "Dry Powder\n"
     ]
    },
    {
     "name": "stderr",
     "output_type": "stream",
     "text": [
      " 23%|██▎       | 41/179 [00:10<00:50,  2.76it/s]"
     ]
    },
    {
     "name": "stdout",
     "output_type": "stream",
     "text": [
      "DualOptoHeat\n",
      "-----> Active\n",
      "Duty Extract Fan\n",
      "E30\n",
      "E30Sa\n"
     ]
    },
    {
     "name": "stderr",
     "output_type": "stream",
     "text": [
      " 24%|██▍       | 43/179 [00:16<02:05,  1.08it/s]"
     ]
    },
    {
     "name": "stdout",
     "output_type": "stream",
     "text": [
      "E30Sa MD\n",
      "E60\n",
      "E60Sa\n"
     ]
    },
    {
     "name": "stderr",
     "output_type": "stream",
     "text": [
      " 26%|██▋       | 47/179 [00:18<01:27,  1.50it/s]"
     ]
    },
    {
     "name": "stdout",
     "output_type": "stream",
     "text": [
      "E60Sa MD\n",
      "E90Sa\n",
      "Electronic Automatic Door\n",
      "Emergency Escape Door\n"
     ]
    },
    {
     "name": "stderr",
     "output_type": "stream",
     "text": [
      " 27%|██▋       | 49/179 [00:18<01:16,  1.69it/s]"
     ]
    },
    {
     "name": "stdout",
     "output_type": "stream",
     "text": [
      "Emergency Lighting Report\n"
     ]
    },
    {
     "name": "stderr",
     "output_type": "stream",
     "text": [
      " 28%|██▊       | 50/179 [00:19<01:08,  1.87it/s]"
     ]
    },
    {
     "name": "stdout",
     "output_type": "stream",
     "text": [
      "Exit Sign\n"
     ]
    },
    {
     "name": "stderr",
     "output_type": "stream",
     "text": [
      " 30%|███       | 54/179 [00:25<01:53,  1.10it/s]"
     ]
    },
    {
     "name": "stdout",
     "output_type": "stream",
     "text": [
      "External Inputs\n",
      "Fault/Clear\n",
      "-----> Active\n",
      "Fault/Fault\n",
      "-----> Active\n",
      "Fault/Normal\n",
      "-----> Active\n",
      "Fault/Reset\n"
     ]
    },
    {
     "name": "stderr",
     "output_type": "stream",
     "text": [
      " 33%|███▎      | 59/179 [00:25<00:50,  2.39it/s]"
     ]
    },
    {
     "name": "stdout",
     "output_type": "stream",
     "text": [
      "-----> Active\n",
      "Fault/Run\n",
      "FaultInput\n",
      "-----> Active\n",
      "FD120\n",
      "FD120s\n",
      "FD30\n"
     ]
    },
    {
     "name": "stderr",
     "output_type": "stream",
     "text": [
      " 35%|███▌      | 63/179 [00:26<00:28,  4.01it/s]"
     ]
    },
    {
     "name": "stdout",
     "output_type": "stream",
     "text": [
      "FD30s\n",
      "FD60\n",
      "FD60s\n",
      "FD90\n",
      "Fire Alarm Report\n"
     ]
    },
    {
     "name": "stderr",
     "output_type": "stream",
     "text": [
      " 38%|███▊      | 68/179 [00:26<00:16,  6.73it/s]"
     ]
    },
    {
     "name": "stdout",
     "output_type": "stream",
     "text": [
      "-----> Active\n",
      "Fire Blanket\n",
      "Fire Damper\n",
      "Fire Door E30\n",
      "Fire Door E30Sa\n"
     ]
    },
    {
     "name": "stderr",
     "output_type": "stream",
     "text": [
      " 41%|████      | 73/179 [00:26<00:10,  9.77it/s]"
     ]
    },
    {
     "name": "stdout",
     "output_type": "stream",
     "text": [
      "Fire Door E30Sa MD\n",
      "Fire Door E60\n",
      "Fire Door E60Sa\n",
      "Fire Door E60Sa MD\n",
      "Fire Door E90\n"
     ]
    },
    {
     "name": "stderr",
     "output_type": "stream",
     "text": [
      " 44%|████▍     | 79/179 [00:27<00:07, 13.94it/s]"
     ]
    },
    {
     "name": "stdout",
     "output_type": "stream",
     "text": [
      "Fire Door E90Sa\n",
      "Fire Door FD120\n",
      "Fire Door FD120s\n",
      "Fire Door FD20\n",
      "Fire Door FD30\n",
      "Fire Door FD30s\n"
     ]
    },
    {
     "name": "stderr",
     "output_type": "stream",
     "text": [
      " 45%|████▌     | 81/179 [00:32<01:13,  1.34it/s]"
     ]
    },
    {
     "name": "stdout",
     "output_type": "stream",
     "text": [
      "Fire Door FD60\n",
      "Fire Door FD60s\n"
     ]
    },
    {
     "name": "stderr",
     "output_type": "stream",
     "text": [
      " 46%|████▋     | 83/179 [00:33<00:57,  1.67it/s]"
     ]
    },
    {
     "name": "stdout",
     "output_type": "stream",
     "text": [
      "Fire Door FD90\n",
      "Fire Door FD90s\n",
      "Fire Panel\n"
     ]
    },
    {
     "name": "stderr",
     "output_type": "stream",
     "text": [
      " 50%|████▉     | 89/179 [00:34<00:30,  2.97it/s]"
     ]
    },
    {
     "name": "stdout",
     "output_type": "stream",
     "text": [
      "-----> Active\n",
      "Fire/Clear\n",
      "-----> Active\n",
      "Fire/Normal\n",
      "-----> Active\n",
      "Fire/Reset\n",
      "-----> Active\n",
      "Fire/Restore\n",
      "-----> Active\n",
      "Firefighter telephone\n"
     ]
    },
    {
     "name": "stderr",
     "output_type": "stream",
     "text": [
      " 51%|█████▏    | 92/179 [00:34<00:21,  4.12it/s]"
     ]
    },
    {
     "name": "stdout",
     "output_type": "stream",
     "text": [
      "-----> Active\n",
      "Fireman Key Switch\n",
      "FlameDetector\n",
      "-----> Active\n",
      "Foam\n"
     ]
    },
    {
     "name": "stderr",
     "output_type": "stream",
     "text": [
      " 53%|█████▎    | 94/179 [00:40<01:18,  1.08it/s]"
     ]
    },
    {
     "name": "stdout",
     "output_type": "stream",
     "text": [
      "Fuse\n",
      "Gas\n"
     ]
    },
    {
     "name": "stderr",
     "output_type": "stream",
     "text": [
      " 55%|█████▌    | 99/179 [00:40<00:39,  2.04it/s]"
     ]
    },
    {
     "name": "stdout",
     "output_type": "stream",
     "text": [
      "-----> Active\n",
      "Hand Transmitter with Meditilt\n",
      "Hearing Loop\n",
      "HeatSensor\n",
      "-----> Active\n",
      "High/Clear\n",
      "-----> Active\n",
      "High/Low\n"
     ]
    },
    {
     "name": "stderr",
     "output_type": "stream",
     "text": [
      " 59%|█████▊    | 105/179 [00:41<00:18,  4.05it/s]"
     ]
    },
    {
     "name": "stdout",
     "output_type": "stream",
     "text": [
      "High/Normal\n",
      "-----> Active\n",
      "Information\n",
      "Information/Information\n",
      "-----> Active\n",
      "Information/Off\n",
      "-----> Active\n",
      "Information/Reset\n"
     ]
    },
    {
     "name": "stderr",
     "output_type": "stream",
     "text": [
      " 60%|██████    | 108/179 [00:41<00:13,  5.45it/s]"
     ]
    },
    {
     "name": "stdout",
     "output_type": "stream",
     "text": [
      "-----> Active\n",
      "Information/Restore\n",
      "-----> Active\n",
      "Input\n",
      "-----> Active\n",
      "Interface\n"
     ]
    },
    {
     "name": "stderr",
     "output_type": "stream",
     "text": [
      " 63%|██████▎   | 112/179 [00:42<00:14,  4.50it/s]"
     ]
    },
    {
     "name": "stdout",
     "output_type": "stream",
     "text": [
      "-----> Active\n",
      "Intruder Panel\n",
      "Intruder Pir\n",
      "IonisationSmoke\n",
      "-----> Active\n",
      "Key Switch\n"
     ]
    },
    {
     "name": "stderr",
     "output_type": "stream",
     "text": [
      " 65%|██████▌   | 117/179 [00:42<00:08,  7.59it/s]"
     ]
    },
    {
     "name": "stdout",
     "output_type": "stream",
     "text": [
      "Keyswitch\n",
      "Log Book\n",
      "-----> Active\n",
      "Low/Clear\n",
      "-----> Active\n",
      "Low/Normal\n",
      "-----> Active\n",
      "Luminaire\n"
     ]
    },
    {
     "name": "stderr",
     "output_type": "stream",
     "text": [
      " 66%|██████▋   | 119/179 [00:49<00:54,  1.11it/s]"
     ]
    },
    {
     "name": "stdout",
     "output_type": "stream",
     "text": [
      "MCD\n",
      "Methane Gas Sensor\n",
      "MultiSensor\n"
     ]
    },
    {
     "name": "stderr",
     "output_type": "stream",
     "text": [
      " 68%|██████▊   | 121/179 [00:49<00:39,  1.45it/s]"
     ]
    },
    {
     "name": "stdout",
     "output_type": "stream",
     "text": [
      "-----> Active\n",
      "Non Fire Door\n",
      "None\n"
     ]
    },
    {
     "name": "stderr",
     "output_type": "stream",
     "text": [
      " 70%|██████▉   | 125/179 [00:49<00:22,  2.41it/s]"
     ]
    },
    {
     "name": "stdout",
     "output_type": "stream",
     "text": [
      "-----> Active\n",
      "NonFireInput\n",
      "-----> Active\n",
      "Normal/Alarm\n",
      "-----> Active\n",
      "Normal/Clear\n",
      "-----> Active\n",
      "Normal/Close\n"
     ]
    },
    {
     "name": "stderr",
     "output_type": "stream",
     "text": [
      " 73%|███████▎  | 131/179 [00:50<00:09,  5.09it/s]"
     ]
    },
    {
     "name": "stdout",
     "output_type": "stream",
     "text": [
      "Normal/Fault\n",
      "-----> Active\n",
      "Normal/Fire\n",
      "Normal/Information\n",
      "-----> Active\n",
      "Normal/Normal\n",
      "Normal/PowerFail\n"
     ]
    },
    {
     "name": "stderr",
     "output_type": "stream",
     "text": [
      " 75%|███████▍  | 134/179 [00:50<00:06,  6.83it/s]"
     ]
    },
    {
     "name": "stdout",
     "output_type": "stream",
     "text": [
      "-----> Active\n",
      "Off/Information\n",
      "-----> Active\n",
      "Off/Restore\n",
      "-----> Active\n",
      "Off/Run\n",
      "Off/Set\n",
      "Open/Close\n"
     ]
    },
    {
     "name": "stderr",
     "output_type": "stream",
     "text": [
      " 78%|███████▊  | 140/179 [00:50<00:03, 10.72it/s]"
     ]
    },
    {
     "name": "stdout",
     "output_type": "stream",
     "text": [
      "-----> Active\n",
      "Open/Restore\n",
      "-----> Active\n",
      "OpticalSmoke\n",
      "-----> Active\n",
      "Other\n",
      "-----> Active\n",
      "Output\n",
      "-----> Active\n",
      "PA\n"
     ]
    },
    {
     "name": "stderr",
     "output_type": "stream",
     "text": [
      " 79%|███████▉  | 142/179 [00:50<00:03, 11.62it/s]"
     ]
    },
    {
     "name": "stdout",
     "output_type": "stream",
     "text": [
      "-----> Active\n",
      "Panic Escape Door\n",
      "Pendant\n"
     ]
    },
    {
     "name": "stderr",
     "output_type": "stream",
     "text": [
      " 80%|████████  | 144/179 [00:50<00:03, 10.86it/s]"
     ]
    },
    {
     "name": "stdout",
     "output_type": "stream",
     "text": [
      "Pin Spot\n",
      "PL Fitting\n"
     ]
    },
    {
     "name": "stderr",
     "output_type": "stream",
     "text": [
      " 83%|████████▎ | 149/179 [00:58<00:19,  1.52it/s]"
     ]
    },
    {
     "name": "stdout",
     "output_type": "stream",
     "text": [
      "PowerFail/Restore\n",
      "-----> Active\n",
      "Propane Gas Sensor\n",
      "PSU\n",
      "Relay\n",
      "-----> Active\n",
      "Repeater Panel\n"
     ]
    },
    {
     "name": "stderr",
     "output_type": "stream",
     "text": [
      " 86%|████████▌ | 154/179 [00:58<00:08,  2.89it/s]"
     ]
    },
    {
     "name": "stdout",
     "output_type": "stream",
     "text": [
      "-----> Active\n",
      "Reset/Alarm\n",
      "Reset/Fire\n",
      "Restore/Fault\n",
      "Restore/PowerFail\n",
      "-----> Active\n",
      "Roller Door\n"
     ]
    },
    {
     "name": "stderr",
     "output_type": "stream",
     "text": [
      " 89%|████████▉ | 160/179 [00:58<00:03,  5.49it/s]"
     ]
    },
    {
     "name": "stdout",
     "output_type": "stream",
     "text": [
      "Roof Vent\n",
      "Room\n",
      "-----> Active\n",
      "Run/Clear\n",
      "-----> Active\n",
      "Run/Fault\n",
      "-----> Active\n",
      "Run/Normal\n"
     ]
    },
    {
     "name": "stderr",
     "output_type": "stream",
     "text": [
      " 91%|█████████ | 163/179 [00:58<00:02,  7.14it/s]"
     ]
    },
    {
     "name": "stdout",
     "output_type": "stream",
     "text": [
      "-----> Active\n",
      "Run/Off\n",
      "-----> Active\n",
      "Run/Reset\n",
      "-----> Active\n",
      "Security Check\n"
     ]
    },
    {
     "name": "stderr",
     "output_type": "stream",
     "text": [
      " 93%|█████████▎| 167/179 [00:59<00:01,  9.09it/s]"
     ]
    },
    {
     "name": "stdout",
     "output_type": "stream",
     "text": [
      "Set/Off\n",
      "Set/PowerFail\n",
      "-----> Active\n",
      "Set/Unset\n",
      "Signal Booster\n",
      "Signalling Unit (DualCom)\n"
     ]
    },
    {
     "name": "stderr",
     "output_type": "stream",
     "text": [
      " 97%|█████████▋| 173/179 [00:59<00:00, 13.24it/s]"
     ]
    },
    {
     "name": "stdout",
     "output_type": "stream",
     "text": [
      "Smoke Damper\n",
      "Sounder\n",
      "-----> Active\n",
      "Speaker\n",
      "-----> Active\n",
      "Stand-by Extract Fan\n",
      "Twinspot\n"
     ]
    },
    {
     "name": "stderr",
     "output_type": "stream",
     "text": [
      " 99%|█████████▉| 177/179 [01:01<00:00,  5.61it/s]"
     ]
    },
    {
     "name": "stdout",
     "output_type": "stream",
     "text": [
      "Universal contact\n",
      "Unknown\n",
      "-----> Active\n",
      "Voice Alarm Speaker\n",
      "-----> Active\n",
      "Water\n"
     ]
    },
    {
     "name": "stderr",
     "output_type": "stream",
     "text": [
      "100%|██████████| 179/179 [01:01<00:00,  2.89it/s]"
     ]
    },
    {
     "name": "stdout",
     "output_type": "stream",
     "text": [
      "Zone Map\n",
      "-----> Active\n"
     ]
    },
    {
     "name": "stderr",
     "output_type": "stream",
     "text": [
      "\n"
     ]
    }
   ],
   "source": [
    "active_devices = []\n",
    "for device in tqdm(lcs_device_list):\n",
    "    print(device)\n",
    "    panel_list = portal_client.query_to_list(\n",
    "        \"\"\"SELECT s.id\n",
    "        FROM api_sites AS s\n",
    "        LEFT JOIN api_toc_rows AS r\n",
    "        USING(toc_id)\n",
    "        WHERE device_id IS NOT NULL\n",
    "        AND lcs_device_type = %(device)s\n",
    "        AND panel_model_id IS NOT NULL\n",
    "        LIMIT 1\n",
    "        \"\"\",\n",
    "        {\"device\": device},\n",
    "    )\n",
    "    if len(panel_list) > 0:\n",
    "        active_devices.append(device)\n",
    "        print(\"-----> Active\")"
   ]
  },
  {
   "cell_type": "code",
   "execution_count": 7,
   "id": "aa8a7a5f",
   "metadata": {},
   "outputs": [
    {
     "data": {
      "text/plain": [
       "['/',\n",
       " 'Alarm/Clear',\n",
       " 'Alarm/Reset',\n",
       " 'Aspirating',\n",
       " 'battery',\n",
       " 'Beacon',\n",
       " 'BeamDetector',\n",
       " 'CallPoint',\n",
       " 'CarbonMonoxide',\n",
       " 'Close/Normal',\n",
       " 'Close/Open',\n",
       " 'Disabled refuge',\n",
       " 'Disabled toilet alarm',\n",
       " 'DRS + Fire telephone',\n",
       " 'DualOptoHeat',\n",
       " 'Fault/Clear',\n",
       " 'Fault/Fault',\n",
       " 'Fault/Normal',\n",
       " 'Fault/Reset',\n",
       " 'FaultInput',\n",
       " 'Fire Alarm Report',\n",
       " 'Fire Panel',\n",
       " 'Fire/Clear',\n",
       " 'Fire/Normal',\n",
       " 'Fire/Reset',\n",
       " 'Fire/Restore',\n",
       " 'Firefighter telephone',\n",
       " 'FlameDetector',\n",
       " 'Gas',\n",
       " 'HeatSensor',\n",
       " 'High/Clear',\n",
       " 'High/Normal',\n",
       " 'Information/Information',\n",
       " 'Information/Off',\n",
       " 'Information/Reset',\n",
       " 'Information/Restore',\n",
       " 'Input',\n",
       " 'Interface',\n",
       " 'IonisationSmoke',\n",
       " 'Log Book',\n",
       " 'Low/Clear',\n",
       " 'Low/Normal',\n",
       " 'MultiSensor',\n",
       " 'None',\n",
       " 'NonFireInput',\n",
       " 'Normal/Alarm',\n",
       " 'Normal/Clear',\n",
       " 'Normal/Fault',\n",
       " 'Normal/Information',\n",
       " 'Normal/PowerFail',\n",
       " 'Off/Information',\n",
       " 'Off/Restore',\n",
       " 'Open/Close',\n",
       " 'Open/Restore',\n",
       " 'OpticalSmoke',\n",
       " 'Other',\n",
       " 'Output',\n",
       " 'PA',\n",
       " 'PowerFail/Restore',\n",
       " 'Relay',\n",
       " 'Repeater Panel',\n",
       " 'Restore/PowerFail',\n",
       " 'Room',\n",
       " 'Run/Clear',\n",
       " 'Run/Fault',\n",
       " 'Run/Normal',\n",
       " 'Run/Off',\n",
       " 'Run/Reset',\n",
       " 'Set/PowerFail',\n",
       " 'Sounder',\n",
       " 'Speaker',\n",
       " 'Unknown',\n",
       " 'Voice Alarm Speaker',\n",
       " 'Zone Map']"
      ]
     },
     "execution_count": 7,
     "metadata": {},
     "output_type": "execute_result"
    }
   ],
   "source": [
    "active_devices"
   ]
  },
  {
   "cell_type": "code",
   "execution_count": 8,
   "id": "cf272b38",
   "metadata": {},
   "outputs": [
    {
     "data": {
      "text/plain": [
       "74"
      ]
     },
     "execution_count": 8,
     "metadata": {},
     "output_type": "execute_result"
    }
   ],
   "source": [
    "len(active_devices)"
   ]
  }
 ],
 "metadata": {
  "kernelspec": {
   "display_name": "data-testing-env",
   "language": "python",
   "name": "python3"
  },
  "language_info": {
   "codemirror_mode": {
    "name": "ipython",
    "version": 3
   },
   "file_extension": ".py",
   "mimetype": "text/x-python",
   "name": "python",
   "nbconvert_exporter": "python",
   "pygments_lexer": "ipython3",
   "version": "3.11.11"
  }
 },
 "nbformat": 4,
 "nbformat_minor": 5
}
