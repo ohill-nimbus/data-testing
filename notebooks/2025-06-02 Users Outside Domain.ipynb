{
 "cells": [
  {
   "cell_type": "code",
   "execution_count": 1,
   "id": "97b876af",
   "metadata": {},
   "outputs": [],
   "source": [
    "import sys\n",
    "\n",
    "sys.path.append(\"..\")\n",
    "\n",
    "from src.auth.aurora import MySQL"
   ]
  },
  {
   "cell_type": "code",
   "execution_count": 2,
   "id": "0ef63f02",
   "metadata": {},
   "outputs": [],
   "source": [
    "mySQL = MySQL()"
   ]
  },
  {
   "cell_type": "code",
   "execution_count": 3,
   "id": "08925263",
   "metadata": {},
   "outputs": [],
   "source": [
    "si_clients = [\n",
    "    {'id': 4446, 'name': 'Allied Fire Protection Ltd'},\n",
    "    {'id': 10028, 'name': 'Gentek Fire And Security Ltd'},\n",
    "    {'id': 414, 'name': 'Global Fire & Security Systems'},\n",
    "    {'id': 4056, 'name': 'SRS Alert Fire Systems Ltd'},\n",
    "    {'id': 310, 'name': 'Tecserv UK Ltd'},\n",
    "    {'id': 13, 'name': 'Trinity Fire & Security Systems'},\n",
    "    {'id': 414, 'name': 'Global Fire & Security Systems'},\n",
    "    {'id': 7650, 'name': 'Churches Fire Security Ltd'},\n",
    "    {'id': 118, 'name': 'MasterFire'},\n",
    "    {'id': 17, 'name': 'Sunfish Services'},\n",
    "    {'id': 33, 'name': 'ADT Fire & Security PLC'},\n",
    "    {'id': 94, 'name': 'Firesec Compliance Limited'},\n",
    "    {'id': 10028, 'name': 'Gentek Fire And Security Ltd'},\n",
    "    {'id': 7650, 'name': 'Churches Fire Security Ltd'},\n",
    "    {'id': 87, 'name': 'Marlowe Fire & Security'},\n",
    " ]"
   ]
  },
  {
   "cell_type": "code",
   "execution_count": 4,
   "id": "f274e10f",
   "metadata": {},
   "outputs": [],
   "source": [
    "client_domains = {}\n",
    "for client in si_clients:\n",
    "    id = client['id']\n",
    "    query = \"\"\"\n",
    "    WITH RECURSIVE category_path AS (\n",
    "        SELECT id, name, parent_id\n",
    "        FROM api_clients\n",
    "        WHERE id = %(client_id)s\n",
    "        AND deleted_at IS NULL\n",
    "\n",
    "        UNION ALL\n",
    "\n",
    "        SELECT c.id, c.name, c.parent_id\n",
    "        FROM api_clients c\n",
    "        INNER JOIN category_path cp ON cp.id = c.parent_id\n",
    "        AND deleted_at IS NULL\n",
    "    )\n",
    "    SELECT DISTINCT users.id, users.email\n",
    "    FROM category_path AS clients\n",
    "    LEFT JOIN api_collaborators AS collabs\n",
    "    ON clients.id = collabs.client_id\n",
    "    LEFT JOIN api_users as users\n",
    "    ON collabs.user_id = users.id;\n",
    "    \"\"\"\n",
    "    users_df = mySQL.query_to_pandas(\n",
    "        query=query,\n",
    "        params={\n",
    "            \"client_id\": client['id']\n",
    "        },\n",
    "    )\n",
    "    users_df[\"domain\"] = users_df[\"email\"].str.extract(r'((?<=@)[^.]+(?:\\.[^.]+)+)')\n",
    "    users_df.groupby(\"domain\").size().sort_values(ascending=False).to_csv(\n",
    "        f\"\"\"data/2025-06-02 Users Outside Domain/{client[\"name\"]}.csv\"\"\",\n",
    "        header=False\n",
    "    )"
   ]
  },
  {
   "cell_type": "code",
   "execution_count": null,
   "id": "c378ec7a",
   "metadata": {},
   "outputs": [],
   "source": []
  }
 ],
 "metadata": {
  "kernelspec": {
   "display_name": "data-testing-env",
   "language": "python",
   "name": "python3"
  },
  "language_info": {
   "codemirror_mode": {
    "name": "ipython",
    "version": 3
   },
   "file_extension": ".py",
   "mimetype": "text/x-python",
   "name": "python",
   "nbconvert_exporter": "python",
   "pygments_lexer": "ipython3",
   "version": "3.11.11"
  }
 },
 "nbformat": 4,
 "nbformat_minor": 5
}
