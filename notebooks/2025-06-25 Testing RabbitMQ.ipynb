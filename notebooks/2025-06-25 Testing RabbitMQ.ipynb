{
 "cells": [
  {
   "cell_type": "code",
   "execution_count": 1,
   "id": "ababf2d4",
   "metadata": {},
   "outputs": [],
   "source": [
    "import pika\n",
    "import json"
   ]
  },
  {
   "cell_type": "code",
   "execution_count": 3,
   "id": "e2916de1",
   "metadata": {},
   "outputs": [
    {
     "name": "stdout",
     "output_type": "stream",
     "text": [
      " [x] Sent message to external queue\n"
     ]
    }
   ],
   "source": [
    "connection = pika.BlockingConnection(\n",
    "    pika.ConnectionParameters(\n",
    "        host='localhost',\n",
    "        port=5672,\n",
    "        credentials=pika.PlainCredentials(\n",
    "            username='guest',\n",
    "            password='guest'\n",
    "        )\n",
    "    )\n",
    ")\n",
    "channel = connection.channel()\n",
    "channel.queue_declare(queue='services_queue', durable=True)\n",
    "message = {\n",
    "    'id': 1,\n",
    "    'name': 'Egg Message',\n",
    "    'description': 'This is a test message for the external queue.'\n",
    "}\n",
    "channel.basic_publish(\n",
    "    exchange='',\n",
    "    routing_key='services_queue',\n",
    "    body=json.dumps(message),\n",
    "    properties=pika.BasicProperties(\n",
    "        delivery_mode=2,  # Make message persistent\n",
    "        content_type='application/json'\n",
    "    )\n",
    ")\n",
    "print(\" [x] Sent message to external queue\")"
   ]
  }
 ],
 "metadata": {
  "kernelspec": {
   "display_name": "data-testing-env",
   "language": "python",
   "name": "python3"
  },
  "language_info": {
   "codemirror_mode": {
    "name": "ipython",
    "version": 3
   },
   "file_extension": ".py",
   "mimetype": "text/x-python",
   "name": "python",
   "nbconvert_exporter": "python",
   "pygments_lexer": "ipython3",
   "version": "3.11.11"
  }
 },
 "nbformat": 4,
 "nbformat_minor": 5
}
