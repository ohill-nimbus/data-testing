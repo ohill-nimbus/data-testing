{
 "cells": [
  {
   "cell_type": "code",
   "execution_count": 1,
   "id": "63e65977",
   "metadata": {},
   "outputs": [],
   "source": [
    "import datetime\n",
    "import os\n",
    "import psycopg2\n",
    "from pyspark.sql import (\n",
    "    SparkSession,\n",
    "    functions\n",
    ")"
   ]
  },
  {
   "cell_type": "code",
   "execution_count": 2,
   "id": "71546798",
   "metadata": {},
   "outputs": [],
   "source": [
    "postgres_schema=\"public\"\n",
    "postgres_table=\"aggregated_api_calls\""
   ]
  },
  {
   "cell_type": "code",
   "execution_count": 3,
   "id": "985b0336",
   "metadata": {},
   "outputs": [
    {
     "name": "stdout",
     "output_type": "stream",
     "text": [
      "Earliest created_date: 2025-06-15\n"
     ]
    }
   ],
   "source": [
    "\n",
    "conn = psycopg2.connect(\n",
    "    dbname=os.environ[\"POSTGRES_DB\"],\n",
    "    user=os.environ[\"POSTGRES_USER\"],\n",
    "    password=os.environ[\"POSTGRES_PASSWORD\"],\n",
    "    host=os.environ[\"POSTGRES_HOST\"],\n",
    "    port=os.environ[\"POSTGRES_PORT\"]\n",
    ")\n",
    "\n",
    "cur = conn.cursor()\n",
    "cur.execute(f\"SELECT MIN(created_date) FROM {postgres_schema}.{postgres_table}\")\n",
    "min_created_date = cur.fetchone()[0]  # Fetch the result and get the first column\n",
    "\n",
    "cur.close()\n",
    "conn.close()\n",
    "\n",
    "print(\"Earliest created_date:\", min_created_date)\n"
   ]
  },
  {
   "cell_type": "code",
   "execution_count": 5,
   "id": "2e79baa5",
   "metadata": {},
   "outputs": [
    {
     "name": "stderr",
     "output_type": "stream",
     "text": [
      "WARNING: Using incubator modules: jdk.incubator.vector\n",
      "Using Spark's default log4j profile: org/apache/spark/log4j2-defaults.properties\n",
      "25/07/24 10:10:48 WARN Utils: Your hostname, OH-LAPTOP, resolves to a loopback address: 127.0.1.1; using 10.255.255.254 instead (on interface lo)\n",
      "25/07/24 10:10:48 WARN Utils: Set SPARK_LOCAL_IP if you need to bind to another address\n",
      "25/07/24 10:10:48 WARN NativeCodeLoader: Unable to load native-hadoop library for your platform... using builtin-java classes where applicable\n",
      "Using Spark's default log4j profile: org/apache/spark/log4j2-defaults.properties\n",
      "Setting default log level to \"WARN\".\n",
      "To adjust logging level use sc.setLogLevel(newLevel). For SparkR, use setLogLevel(newLevel).\n",
      "25/07/24 10:10:50 WARN Utils: Service 'SparkUI' could not bind on port 4040. Attempting port 4041.\n"
     ]
    }
   ],
   "source": [
    "# Start Spark session\n",
    "spark = SparkSession.builder \\\n",
    "    .appName(\"ReadFromRDS\") \\\n",
    "    .config(\"spark.jars\", \"/home/ollyhill/data-testing/mysql-connector-j-8.4.0.jar,/home/ollyhill/data-testing/postgresql-42.7.7.jar\") \\\n",
    "    .getOrCreate()\n",
    "\n",
    "\n",
    "# JDBC connection properties\n",
    "jdbc_url = (\n",
    "    \"jdbc:mysql://\" +\n",
    "    os.environ[\"PORTAL_RDS\"] +\n",
    "    \":3306/\" +\n",
    "    os.environ[\"PORTAL_DB\"]\n",
    ")\n",
    "connection_properties = {\n",
    "    \"user\": os.environ['PORTAL_USER'],\n",
    "    \"password\": os.environ['PORTAL_PASSWORD'],\n",
    "    \"driver\": \"com.mysql.cj.jdbc.Driver\"\n",
    "}"
   ]
  },
  {
   "cell_type": "code",
   "execution_count": null,
   "id": "0bcadf30",
   "metadata": {},
   "outputs": [],
   "source": [
    "end_index = 70028363\n",
    "while end_index > 1:\n",
    "    start_index = max(end_index - 100000, 1)\n",
    "    query = f\"\"\"(\n",
    "        SELECT id, user_id, device_id, created_at\n",
    "        FROM api_calls\n",
    "        WHERE id BETWEEN {start_index} AND {end_index}\n",
    "    ) AS filtered\"\"\"\n",
    "\n",
    "    df = spark.read.jdbc(\n",
    "        url=jdbc_url,\n",
    "        table=query,\n",
    "        properties=connection_properties\n",
    "    )\n",
    "    min_ts = df.select(functions.min(\"created_at\")).collect()[0][0]\n",
    "    assert min_ts.date() < min_created_date - datetime.timedelta(days=1)\n",
    "    min_created_date = min_ts.date() + datetime.timedelta(days=1)\n",
    "    df = df \\\n",
    "        .filter(\n",
    "            (functions.col(\"user_id\").isNotNull()) &\n",
    "            (functions.col(\"device_id\").isNotNull()) &\n",
    "            (functions.col(\"created_at\").isNotNull()) &\n",
    "            (functions.col(\"created_at\") >= functions.lit(min_created_date.isoformat()))\n",
    "        )\n",
    "\n",
    "    df = df \\\n",
    "        .withColumn(\"created_date\", functions.to_date(\"created_at\"))  \\\n",
    "        .dropDuplicates([\"user_id\", \"device_id\", \"created_date\"])  \\\n",
    "        .select([\"user_id\", \"device_id\", \"created_date\"])\n",
    "    end_index = start_index"
   ]
  },
  {
   "cell_type": "code",
   "execution_count": null,
   "id": "f3d8bc85",
   "metadata": {},
   "outputs": [],
   "source": []
  },
  {
   "cell_type": "code",
   "execution_count": null,
   "id": "6aed6983",
   "metadata": {},
   "outputs": [
    {
     "name": "stderr",
     "output_type": "stream",
     "text": [
      "                                                                                \r"
     ]
    }
   ],
   "source": []
  },
  {
   "cell_type": "code",
   "execution_count": null,
   "id": "42e1458d",
   "metadata": {},
   "outputs": [],
   "source": []
  },
  {
   "cell_type": "code",
   "execution_count": null,
   "id": "59cfe191",
   "metadata": {},
   "outputs": [
    {
     "data": {
      "text/plain": [
       "datetime.date(2025, 6, 14)"
      ]
     },
     "execution_count": 10,
     "metadata": {},
     "output_type": "execute_result"
    }
   ],
   "source": []
  }
 ],
 "metadata": {
  "kernelspec": {
   "display_name": "data-testing-env",
   "language": "python",
   "name": "python3"
  },
  "language_info": {
   "codemirror_mode": {
    "name": "ipython",
    "version": 3
   },
   "file_extension": ".py",
   "mimetype": "text/x-python",
   "name": "python",
   "nbconvert_exporter": "python",
   "pygments_lexer": "ipython3",
   "version": "3.11.11"
  }
 },
 "nbformat": 4,
 "nbformat_minor": 5
}
