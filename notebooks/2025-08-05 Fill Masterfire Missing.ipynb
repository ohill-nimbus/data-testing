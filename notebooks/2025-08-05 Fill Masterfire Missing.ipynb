{
 "cells": [
  {
   "cell_type": "code",
   "execution_count": 1,
   "id": "fab970e6",
   "metadata": {},
   "outputs": [],
   "source": [
    "import pandas as pd\n",
    "import sys\n",
    "\n",
    "sys.path.append(\"..\")\n",
    "\n",
    "from src.auth.aurora import get_portal_client"
   ]
  },
  {
   "cell_type": "code",
   "execution_count": 2,
   "id": "5a2f16f6",
   "metadata": {},
   "outputs": [],
   "source": [
    "portal_client = get_portal_client()"
   ]
  },
  {
   "cell_type": "code",
   "execution_count": 3,
   "id": "5e84cfcb",
   "metadata": {},
   "outputs": [],
   "source": [
    "existing_missing_df = pd.read_csv(\"data/2025-08-04 Masterfire Missing Tasks New 2024.csv\").sort_values(\"site_id\")"
   ]
  },
  {
   "cell_type": "code",
   "execution_count": 4,
   "id": "543fa6f2",
   "metadata": {},
   "outputs": [],
   "source": [
    "missing_sites = existing_missing_df[\"site_id\"].unique().tolist()"
   ]
  },
  {
   "cell_type": "code",
   "execution_count": 5,
   "id": "0de6c350",
   "metadata": {},
   "outputs": [],
   "source": [
    "placeholders = ', '.join(['%s'] * len(missing_sites))\n",
    "site_df = portal_client.query_to_pandas(\n",
    "    f\"\"\"SELECT site.id AS site_id, site.name AS equipment_name, client.name AS site_name\n",
    "    FROM topaz.api_sites AS site\n",
    "    LEFT JOIN topaz.api_clients AS client\n",
    "    ON site.client_id = client.id\n",
    "    WHERE site.id IN ({placeholders})\n",
    "    ORDER BY site.id\"\"\",\n",
    "    params=missing_sites\n",
    ")"
   ]
  },
  {
   "cell_type": "code",
   "execution_count": null,
   "id": "7a90c927",
   "metadata": {},
   "outputs": [],
   "source": [
    "result_df = pd.read_csv(\"data/Masterfire Problem Services.csv\")"
   ]
  },
  {
   "cell_type": "code",
   "execution_count": null,
   "id": "2c9f18de",
   "metadata": {},
   "outputs": [
    {
     "name": "stdout",
     "output_type": "stream",
     "text": [
      "8466\n"
     ]
    }
   ],
   "source": [
    "for _, (site_id, equipment_name, site_name) in site_df[[\"site_id\", \"equipment_name\", \"site_name\"]].iterrows():\n",
    "    print(site_id)\n",
    "    problem_tests = portal_client.query_to_list(\n",
    "        \"\"\"SELECT\n",
    "            DISTINCT mode_change.created_at\n",
    "        FROM topaz.api_service_tests AS test\n",
    "        INNER JOIN topaz.api_mode_changes AS mode_change\n",
    "        ON test.mode_change_id = mode_change.id\n",
    "        INNER JOIN topaz.api_sites AS site\n",
    "        ON test.site_id = site.id\n",
    "        INNER JOIN topaz.api_toc_rows AS toc\n",
    "        ON (mode_change.toc_id = toc.toc_id)\n",
    "        AND (\n",
    "            (test.domain = toc.domain) OR\n",
    "            (toc.domain IS NULL)\n",
    "        )\n",
    "        AND (\n",
    "            (test.panel = toc.panel) OR\n",
    "            (toc.panel IS NULL)\n",
    "        )\n",
    "        AND (\n",
    "            (test.loop = toc.loop) OR\n",
    "            (toc.loop IS NULL)\n",
    "        )\n",
    "        AND (test.address = toc.address)\n",
    "        AND (test.address_type = toc.address_type)\n",
    "        AND (\n",
    "            (\n",
    "                (\n",
    "                    (test.sub_address = '') OR\n",
    "                    (test.sub_address IS NULL)\n",
    "                ) AND (\n",
    "                    (toc.sub_address IS NULL) OR\n",
    "                    (toc.sub_address = 0)\n",
    "                )\n",
    "            ) OR\n",
    "            (test.sub_address = toc.sub_address)\n",
    "        )\n",
    "        AND test.created_at BETWEEN toc.created_at AND IFNULL(toc.deleted_at, CURRENT_TIMESTAMP())\n",
    "        INNER JOIN topaz.api_service_tasks AS task_template\n",
    "        ON task_template.template_id = site.template_id\n",
    "        AND (\n",
    "            (\n",
    "                (task_template.asset_type = toc.lcs_device_type)\n",
    "                AND (toc.lcs_device_type!= 'Other')\n",
    "            )\n",
    "            OR (\n",
    "                toc.lcs_device_type = 'Other'\n",
    "                AND (toc.type = task_template.asset_type)\n",
    "            )\n",
    "            OR (task_template.asset_type = '')\n",
    "            OR (\n",
    "                site.protocol_id = 34\n",
    "                AND asset_type = 'el'\n",
    "            )\n",
    "            OR (\n",
    "                site.protocol_id = 35\n",
    "                AND asset_type = 'ext'\n",
    "                AND toc.lcs_device_type != 'Other'\n",
    "                AND toc.type != 'Fire Blanket'\n",
    "            )\n",
    "        )\n",
    "        AND test.created_at BETWEEN task_template.created_at AND IFNULL(task_template.deleted_at, CURRENT_TIMESTAMP())\n",
    "        AND task_template.type IN (1,3)\n",
    "        LEFT JOIN topaz.api_service_tasks_record AS task_record\n",
    "        ON task_record.task_id = task_template.id\n",
    "        AND task_record.test_id = test.id\n",
    "        WHERE task_record.id IS NULL\n",
    "        AND test.created_at >= '2024-01-01 00:00:00'\n",
    "        AND site.id = %(site_id)s\n",
    "        \"\"\",\n",
    "        {\"site_id\": site_id}\n",
    "    )\n",
    "    assert len(problem_tests) > 0, f\"No problem tests found for site {site_id} ({equipment_name})\"\n",
    "    for created_at in problem_tests:\n",
    "        result_df = pd.concat([\n",
    "            result_df,\n",
    "            pd.DataFrame({\n",
    "                \"Equipment Name\": [equipment_name],\n",
    "                \"Site Name\": [site_name],\n",
    "                \"Service Start Time\": [created_at]\n",
    "            })\n",
    "        ], ignore_index=True)\n",
    "        result_df.to_csv(\"data/Masterfire Problem Services.csv\", index=False)\n"
   ]
  },
  {
   "cell_type": "code",
   "execution_count": null,
   "id": "ff4d93d3",
   "metadata": {},
   "outputs": [
    {
     "data": {
      "text/plain": [
       "[datetime.datetime(2024, 9, 24, 7, 24, 47)]"
      ]
     },
     "execution_count": 10,
     "metadata": {},
     "output_type": "execute_result"
    }
   ],
   "source": []
  }
 ],
 "metadata": {
  "kernelspec": {
   "display_name": "data-testing-env",
   "language": "python",
   "name": "python3"
  },
  "language_info": {
   "codemirror_mode": {
    "name": "ipython",
    "version": 3
   },
   "file_extension": ".py",
   "mimetype": "text/x-python",
   "name": "python",
   "nbconvert_exporter": "python",
   "pygments_lexer": "ipython3",
   "version": "3.11.11"
  }
 },
 "nbformat": 4,
 "nbformat_minor": 5
}
