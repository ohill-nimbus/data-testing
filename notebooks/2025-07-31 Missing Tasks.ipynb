{
 "cells": [
  {
   "cell_type": "code",
   "execution_count": 1,
   "id": "a10c890e",
   "metadata": {},
   "outputs": [],
   "source": [
    "import sys\n",
    "\n",
    "sys.path.append(\"..\")\n",
    "\n",
    "from src.auth.aurora import get_portal_client"
   ]
  },
  {
   "cell_type": "code",
   "execution_count": 2,
   "id": "98d76df9",
   "metadata": {},
   "outputs": [],
   "source": [
    "portal_client = get_portal_client()"
   ]
  },
  {
   "cell_type": "code",
   "execution_count": 3,
   "id": "961f3f76",
   "metadata": {},
   "outputs": [],
   "source": [
    "df = portal_client.query_to_pandas(\n",
    "    \"\"\"SELECT DISTINCT test_template.site_id, test_template.test_id, test_template.template_id, test_template.created_at\n",
    "    FROM (\n",
    "        SELECT\n",
    "            DISTINCT test.id AS test_id, test.site_id, test.created_at, task_template.template_id, task_template.asset_type\n",
    "        FROM topaz.api_service_tests AS test\n",
    "        INNER JOIN topaz.api_service_tasks_record AS task_record\n",
    "        ON test.id = task_record.test_id\n",
    "        INNER JOIN topaz.api_service_tasks AS task_template\n",
    "        ON task_record.task_id = task_template.id\n",
    "        AND test.created_at BETWEEN task_template.created_at AND IFNULL(task_template.deleted_at, CURRENT_TIMESTAMP())\n",
    "        WHERE task_template.asset_type != ''\n",
    "    ) AS test_template\n",
    "    LEFT JOIN topaz.api_service_tasks AS task_template\n",
    "    ON test_template.template_id = task_template.template_id\n",
    "    AND (\n",
    "        test_template.asset_type = task_template.asset_type\n",
    "        OR task_template.asset_type = ''\n",
    "    )\n",
    "    AND test_template.created_at BETWEEN task_template.created_at AND IFNULL(task_template.deleted_at, CURRENT_TIMESTAMP())\n",
    "    LEFT JOIN topaz.api_service_tasks_record AS task_record\n",
    "    ON task_record.task_id = task_template.id\n",
    "    AND task_record.test_id = test_template.test_id\n",
    "    WHERE task_template.type IN (1, 3)\n",
    "    AND task_record.id IS NULL\n",
    "    \"\"\"\n",
    ")"
   ]
  },
  {
   "cell_type": "code",
   "execution_count": 4,
   "id": "d72e5a55",
   "metadata": {},
   "outputs": [
    {
     "name": "stdout",
     "output_type": "stream",
     "text": [
      "10\n"
     ]
    }
   ],
   "source": [
    "for template_id, template_df in df.groupby(\"template_id\"):\n",
    "    print(template_id)\n",
    "    break"
   ]
  },
  {
   "cell_type": "code",
   "execution_count": 5,
   "id": "3682fad4",
   "metadata": {},
   "outputs": [
    {
     "data": {
      "text/html": [
       "<div>\n",
       "<style scoped>\n",
       "    .dataframe tbody tr th:only-of-type {\n",
       "        vertical-align: middle;\n",
       "    }\n",
       "\n",
       "    .dataframe tbody tr th {\n",
       "        vertical-align: top;\n",
       "    }\n",
       "\n",
       "    .dataframe thead th {\n",
       "        text-align: right;\n",
       "    }\n",
       "</style>\n",
       "<table border=\"1\" class=\"dataframe\">\n",
       "  <thead>\n",
       "    <tr style=\"text-align: right;\">\n",
       "      <th></th>\n",
       "      <th>site_id</th>\n",
       "      <th>test_id</th>\n",
       "      <th>template_id</th>\n",
       "      <th>created_at</th>\n",
       "    </tr>\n",
       "  </thead>\n",
       "  <tbody>\n",
       "    <tr>\n",
       "      <th>1654</th>\n",
       "      <td>22857</td>\n",
       "      <td>11957753</td>\n",
       "      <td>10</td>\n",
       "      <td>2024-12-09 06:59:27</td>\n",
       "    </tr>\n",
       "    <tr>\n",
       "      <th>1674</th>\n",
       "      <td>23341</td>\n",
       "      <td>12958143</td>\n",
       "      <td>10</td>\n",
       "      <td>2025-03-31 07:11:44</td>\n",
       "    </tr>\n",
       "    <tr>\n",
       "      <th>1675</th>\n",
       "      <td>23341</td>\n",
       "      <td>12958151</td>\n",
       "      <td>10</td>\n",
       "      <td>2025-03-31 07:13:11</td>\n",
       "    </tr>\n",
       "    <tr>\n",
       "      <th>1728</th>\n",
       "      <td>60930</td>\n",
       "      <td>14038566</td>\n",
       "      <td>10</td>\n",
       "      <td>2025-07-15 10:05:51</td>\n",
       "    </tr>\n",
       "  </tbody>\n",
       "</table>\n",
       "</div>"
      ],
      "text/plain": [
       "      site_id   test_id  template_id          created_at\n",
       "1654    22857  11957753           10 2024-12-09 06:59:27\n",
       "1674    23341  12958143           10 2025-03-31 07:11:44\n",
       "1675    23341  12958151           10 2025-03-31 07:13:11\n",
       "1728    60930  14038566           10 2025-07-15 10:05:51"
      ]
     },
     "execution_count": 5,
     "metadata": {},
     "output_type": "execute_result"
    }
   ],
   "source": [
    "template_df"
   ]
  }
 ],
 "metadata": {
  "kernelspec": {
   "display_name": "data-testing-env",
   "language": "python",
   "name": "python3"
  },
  "language_info": {
   "codemirror_mode": {
    "name": "ipython",
    "version": 3
   },
   "file_extension": ".py",
   "mimetype": "text/x-python",
   "name": "python",
   "nbconvert_exporter": "python",
   "pygments_lexer": "ipython3",
   "version": "3.11.11"
  }
 },
 "nbformat": 4,
 "nbformat_minor": 5
}
