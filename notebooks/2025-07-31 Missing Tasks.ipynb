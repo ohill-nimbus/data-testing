{
 "cells": [
  {
   "cell_type": "code",
   "execution_count": 1,
   "id": "a10c890e",
   "metadata": {},
   "outputs": [],
   "source": [
    "import sys\n",
    "\n",
    "sys.path.append(\"..\")\n",
    "\n",
    "from src.auth.aurora import get_portal_client"
   ]
  },
  {
   "cell_type": "code",
   "execution_count": 2,
   "id": "98d76df9",
   "metadata": {},
   "outputs": [],
   "source": [
    "portal_client = get_portal_client()"
   ]
  },
  {
   "cell_type": "code",
   "execution_count": null,
   "id": "961f3f76",
   "metadata": {},
   "outputs": [],
   "source": [
    "df = portal_client.query_to_pandas(\n",
    "    \"\"\"SELECT DISTINCT test_template.test_id\n",
    "    FROM (\n",
    "        SELECT\n",
    "            DISTINCT test.id AS test_id, test.site_id, test.created_at, task_template.template_id, task_template.asset_type\n",
    "        FROM topaz.api_service_tests AS test\n",
    "        INNER JOIN topaz.api_service_tasks_record AS task_record\n",
    "        ON test.id = task_record.test_id\n",
    "        INNER JOIN topaz.api_service_tasks AS task_template\n",
    "        ON task_record.task_id = task_template.id\n",
    "        AND test.created_at BETWEEN task_template.created_at AND IFNULL(task_template.deleted_at, CURRENT_TIMESTAMP())\n",
    "        WHERE task_template.asset_type != ''\n",
    "    ) AS test_template\n",
    "    LEFT JOIN topaz.api_service_tasks AS task_template\n",
    "    ON test_template.template_id = task_template.template_id\n",
    "    AND (\n",
    "        test_template.asset_type = task_template.asset_type\n",
    "        OR task_template.asset_type = ''\n",
    "    )\n",
    "    AND test_template.created_at BETWEEN task_template.created_at AND IFNULL(task_template.deleted_at, CURRENT_TIMESTAMP())\n",
    "    LEFT JOIN topaz.api_service_tasks_record AS task_record\n",
    "    ON task_record.task_id = task_template.id\n",
    "    AND task_record.test_id = test_template.test_id\n",
    "    WHERE task_template.type IN (1, 3)\n",
    "    AND task_record.id IS NULL\n",
    "    \"\"\"\n",
    ")"
   ]
  },
  {
   "cell_type": "code",
   "execution_count": 4,
   "id": "fc5e6c86",
   "metadata": {},
   "outputs": [
    {
     "data": {
      "text/html": [
       "<div>\n",
       "<style scoped>\n",
       "    .dataframe tbody tr th:only-of-type {\n",
       "        vertical-align: middle;\n",
       "    }\n",
       "\n",
       "    .dataframe tbody tr th {\n",
       "        vertical-align: top;\n",
       "    }\n",
       "\n",
       "    .dataframe thead th {\n",
       "        text-align: right;\n",
       "    }\n",
       "</style>\n",
       "<table border=\"1\" class=\"dataframe\">\n",
       "  <thead>\n",
       "    <tr style=\"text-align: right;\">\n",
       "      <th></th>\n",
       "      <th>test_id</th>\n",
       "    </tr>\n",
       "  </thead>\n",
       "  <tbody>\n",
       "    <tr>\n",
       "      <th>0</th>\n",
       "      <td>322740</td>\n",
       "    </tr>\n",
       "    <tr>\n",
       "      <th>1</th>\n",
       "      <td>330610</td>\n",
       "    </tr>\n",
       "    <tr>\n",
       "      <th>2</th>\n",
       "      <td>330657</td>\n",
       "    </tr>\n",
       "    <tr>\n",
       "      <th>3</th>\n",
       "      <td>332712</td>\n",
       "    </tr>\n",
       "    <tr>\n",
       "      <th>4</th>\n",
       "      <td>332713</td>\n",
       "    </tr>\n",
       "    <tr>\n",
       "      <th>...</th>\n",
       "      <td>...</td>\n",
       "    </tr>\n",
       "    <tr>\n",
       "      <th>1744</th>\n",
       "      <td>14075929</td>\n",
       "    </tr>\n",
       "    <tr>\n",
       "      <th>1745</th>\n",
       "      <td>14076059</td>\n",
       "    </tr>\n",
       "    <tr>\n",
       "      <th>1746</th>\n",
       "      <td>14077937</td>\n",
       "    </tr>\n",
       "    <tr>\n",
       "      <th>1747</th>\n",
       "      <td>14077994</td>\n",
       "    </tr>\n",
       "    <tr>\n",
       "      <th>1748</th>\n",
       "      <td>14110202</td>\n",
       "    </tr>\n",
       "  </tbody>\n",
       "</table>\n",
       "<p>1749 rows × 1 columns</p>\n",
       "</div>"
      ],
      "text/plain": [
       "       test_id\n",
       "0       322740\n",
       "1       330610\n",
       "2       330657\n",
       "3       332712\n",
       "4       332713\n",
       "...        ...\n",
       "1744  14075929\n",
       "1745  14076059\n",
       "1746  14077937\n",
       "1747  14077994\n",
       "1748  14110202\n",
       "\n",
       "[1749 rows x 1 columns]"
      ]
     },
     "execution_count": 4,
     "metadata": {},
     "output_type": "execute_result"
    }
   ],
   "source": [
    "df"
   ]
  }
 ],
 "metadata": {
  "kernelspec": {
   "display_name": "data-testing-env",
   "language": "python",
   "name": "python3"
  },
  "language_info": {
   "codemirror_mode": {
    "name": "ipython",
    "version": 3
   },
   "file_extension": ".py",
   "mimetype": "text/x-python",
   "name": "python",
   "nbconvert_exporter": "python",
   "pygments_lexer": "ipython3",
   "version": "3.11.11"
  }
 },
 "nbformat": 4,
 "nbformat_minor": 5
}
