{
 "cells": [
  {
   "cell_type": "code",
   "execution_count": 2,
   "id": "a10c890e",
   "metadata": {},
   "outputs": [],
   "source": [
    "import sys\n",
    "\n",
    "sys.path.append(\"..\")\n",
    "\n",
    "from src.auth.aurora import get_portal_client"
   ]
  },
  {
   "cell_type": "code",
   "execution_count": 3,
   "id": "98d76df9",
   "metadata": {},
   "outputs": [],
   "source": [
    "portal_client = get_portal_client()"
   ]
  },
  {
   "cell_type": "code",
   "execution_count": null,
   "id": "961f3f76",
   "metadata": {},
   "outputs": [],
   "source": [
    "df = portal_client.query_to_pandas(\n",
    "    \"\"\"SELECT\n",
    "        test.id AS test_id,\n",
    "        template_task.id AS task_id\n",
    "    FROM topaz.api_service_tests AS test\n",
    "    INNER JOIN topaz.api_sites AS site\n",
    "    ON test.site_id = site.id\n",
    "    LEFT JOIN topaz.api_toc_rows AS toc\n",
    "    ON (site.toc_id = toc.toc_id)\n",
    "    AND (\n",
    "        (test.domain = toc.domain) OR\n",
    "        (toc.domain IS NULL)\n",
    "    )\n",
    "    AND (\n",
    "        (test.panel = toc.panel) OR\n",
    "        (toc.panel IS NULL)\n",
    "    )\n",
    "    AND (\n",
    "        (test.loop = toc.loop) OR\n",
    "        (toc.loop IS NULL)\n",
    "    )\n",
    "    AND (test.address = toc.address)\n",
    "    AND (test.address_type = toc.address_type)\n",
    "    AND (\n",
    "        (\n",
    "            (\n",
    "                (test.sub_address = '') OR\n",
    "                (test.sub_address IS NULL)\n",
    "            ) AND (\n",
    "                (toc.sub_address IS NULL) OR\n",
    "                (toc.sub_address = 0)\n",
    "            )\n",
    "        ) OR\n",
    "        (test.sub_address = toc.sub_address)\n",
    "    )\n",
    "    INNER JOIN topaz.api_service_tasks AS template_task\n",
    "    ON site.template_id = template_task.template_id\n",
    "    AND test.updated_at BETWEEN template_task.created_at AND IFNULL(template_task.deleted_at, CURRENT_TIMESTAMP())\n",
    "    AND (\n",
    "        (toc.lcs_device_type = template_task.asset_type) OR\n",
    "        (template_task.asset_type = '')\n",
    "    )\n",
    "    AND template_task.type IN (1, 3)\n",
    "    WHERE test.id >= 14029088\n",
    "    AND NOT EXISTS (\n",
    "        SELECT 1\n",
    "        FROM topaz.api_service_tasks_record AS task_record\n",
    "        WHERE task_record.test_id = test.id\n",
    "        AND task_record.task_id = template_task.id\n",
    "    )\n",
    "    LIMIT 100\n",
    "    \"\"\"\n",
    ")"
   ]
  },
  {
   "cell_type": "code",
   "execution_count": null,
   "id": "f072a9b9",
   "metadata": {},
   "outputs": [
    {
     "data": {
      "text/html": [
       "<div>\n",
       "<style scoped>\n",
       "    .dataframe tbody tr th:only-of-type {\n",
       "        vertical-align: middle;\n",
       "    }\n",
       "\n",
       "    .dataframe tbody tr th {\n",
       "        vertical-align: top;\n",
       "    }\n",
       "\n",
       "    .dataframe thead th {\n",
       "        text-align: right;\n",
       "    }\n",
       "</style>\n",
       "<table border=\"1\" class=\"dataframe\">\n",
       "  <thead>\n",
       "    <tr style=\"text-align: right;\">\n",
       "      <th></th>\n",
       "      <th>test_id</th>\n",
       "      <th>task_id</th>\n",
       "    </tr>\n",
       "  </thead>\n",
       "  <tbody>\n",
       "  </tbody>\n",
       "</table>\n",
       "</div>"
      ],
      "text/plain": [
       "Empty DataFrame\n",
       "Columns: [test_id, task_id]\n",
       "Index: []"
      ]
     },
     "execution_count": 4,
     "metadata": {},
     "output_type": "execute_result"
    }
   ],
   "source": [
    "df"
   ]
  }
 ],
 "metadata": {
  "kernelspec": {
   "display_name": "data-testing-env",
   "language": "python",
   "name": "python3"
  },
  "language_info": {
   "codemirror_mode": {
    "name": "ipython",
    "version": 3
   },
   "file_extension": ".py",
   "mimetype": "text/x-python",
   "name": "python",
   "nbconvert_exporter": "python",
   "pygments_lexer": "ipython3",
   "version": "3.11.11"
  }
 },
 "nbformat": 4,
 "nbformat_minor": 5
}
