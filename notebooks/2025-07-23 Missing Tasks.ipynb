{
 "cells": [
  {
   "cell_type": "code",
   "execution_count": 1,
   "id": "a10c890e",
   "metadata": {},
   "outputs": [],
   "source": [
    "import sys\n",
    "\n",
    "sys.path.append(\"..\")\n",
    "\n",
    "from src.auth.aurora import get_portal_client"
   ]
  },
  {
   "cell_type": "code",
   "execution_count": 2,
   "id": "98d76df9",
   "metadata": {},
   "outputs": [],
   "source": [
    "portal_client = get_portal_client()"
   ]
  },
  {
   "cell_type": "code",
   "execution_count": 3,
   "id": "961f3f76",
   "metadata": {},
   "outputs": [],
   "source": [
    "df = portal_client.query_to_pandas(\n",
    "    \"\"\"SELECT\n",
    "        DISTINCT test.id AS test_id\n",
    "    FROM topaz.api_service_tests AS test\n",
    "    INNER JOIN topaz.api_mode_changes AS mode_change\n",
    "    ON test.mode_change_id = mode_change.id\n",
    "    INNER JOIN topaz.api_sites AS site\n",
    "    ON test.site_id = site.id\n",
    "    INNER JOIN topaz.api_toc_rows AS toc\n",
    "    ON (mode_change.toc_id = toc.toc_id)\n",
    "    AND (\n",
    "        (test.domain = toc.domain) OR\n",
    "        (toc.domain IS NULL)\n",
    "    )\n",
    "    AND (\n",
    "        (test.panel = toc.panel) OR\n",
    "        (toc.panel IS NULL)\n",
    "    )\n",
    "    AND (\n",
    "        (test.loop = toc.loop) OR\n",
    "        (toc.loop IS NULL)\n",
    "    )\n",
    "    AND (test.address = toc.address)\n",
    "    AND (test.address_type = toc.address_type)\n",
    "    AND (\n",
    "        (\n",
    "            (\n",
    "                (test.sub_address = '') OR\n",
    "                (test.sub_address IS NULL)\n",
    "            ) AND (\n",
    "                (toc.sub_address IS NULL) OR\n",
    "                (toc.sub_address = 0)\n",
    "            )\n",
    "        ) OR\n",
    "        (test.sub_address = toc.sub_address)\n",
    "    )\n",
    "    INNER JOIN topaz.api_service_tasks AS task_template\n",
    "    ON task_template.template_id = site.template_id\n",
    "    AND (\n",
    "        (task_template.asset_type = toc.lcs_device_type)\n",
    "        OR (task_template.asset_type = '')\n",
    "        OR (\n",
    "            site.protocol_id = 34\n",
    "            AND asset_type = 'el'\n",
    "        )\n",
    "        OR (\n",
    "            site.protocol_id = 35\n",
    "            AND asset_type = 'ext'\n",
    "        )\n",
    "    )\n",
    "    AND test.created_at BETWEEN task_template.created_at AND IFNULL(task_template.deleted_at, CURRENT_TIMESTAMP())\n",
    "    AND task_template.type IN (1,3)\n",
    "    LEFT JOIN topaz.api_service_tasks_record AS task_record\n",
    "    ON task_record.task_id = task_template.id\n",
    "    AND task_record.test_id = test.id\n",
    "    WHERE task_record.id IS NULL\n",
    "    LIMIT 1\n",
    "    \"\"\"\n",
    ")"
   ]
  },
  {
   "cell_type": "code",
   "execution_count": 4,
   "id": "1a956cff",
   "metadata": {},
   "outputs": [
    {
     "data": {
      "text/html": [
       "<div>\n",
       "<style scoped>\n",
       "    .dataframe tbody tr th:only-of-type {\n",
       "        vertical-align: middle;\n",
       "    }\n",
       "\n",
       "    .dataframe tbody tr th {\n",
       "        vertical-align: top;\n",
       "    }\n",
       "\n",
       "    .dataframe thead th {\n",
       "        text-align: right;\n",
       "    }\n",
       "</style>\n",
       "<table border=\"1\" class=\"dataframe\">\n",
       "  <thead>\n",
       "    <tr style=\"text-align: right;\">\n",
       "      <th></th>\n",
       "      <th>test_id</th>\n",
       "    </tr>\n",
       "  </thead>\n",
       "  <tbody>\n",
       "    <tr>\n",
       "      <th>0</th>\n",
       "      <td>163291</td>\n",
       "    </tr>\n",
       "  </tbody>\n",
       "</table>\n",
       "</div>"
      ],
      "text/plain": [
       "   test_id\n",
       "0   163291"
      ]
     },
     "execution_count": 4,
     "metadata": {},
     "output_type": "execute_result"
    }
   ],
   "source": [
    "df"
   ]
  }
 ],
 "metadata": {
  "kernelspec": {
   "display_name": "data-testing-env",
   "language": "python",
   "name": "python3"
  },
  "language_info": {
   "codemirror_mode": {
    "name": "ipython",
    "version": 3
   },
   "file_extension": ".py",
   "mimetype": "text/x-python",
   "name": "python",
   "nbconvert_exporter": "python",
   "pygments_lexer": "ipython3",
   "version": "3.11.11"
  }
 },
 "nbformat": 4,
 "nbformat_minor": 5
}
