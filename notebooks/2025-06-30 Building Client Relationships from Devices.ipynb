{
 "cells": [
  {
   "cell_type": "code",
   "execution_count": 1,
   "id": "3e0d45d7",
   "metadata": {},
   "outputs": [],
   "source": [
    "from IPython.display import clear_output\n",
    "from bidict import bidict\n",
    "from sentence_transformers import SentenceTransformer, util\n",
    "from sqlalchemy import select\n",
    "import sys\n",
    "\n",
    "sys.path.append(\"..\")\n",
    "\n",
    "from src.auth.aurora import get_sales_client, get_portal_client\n",
    "from src.db.database import session\n",
    "from src.db.models import Client"
   ]
  },
  {
   "cell_type": "code",
   "execution_count": 2,
   "id": "4ba05d3c",
   "metadata": {},
   "outputs": [],
   "source": [
    "stmt = select(Client.sales_id).distinct()\n",
    "matched_ids = session.scalars(stmt).all()"
   ]
  },
  {
   "cell_type": "code",
   "execution_count": 3,
   "id": "b9f9cc3d",
   "metadata": {},
   "outputs": [],
   "source": [
    "portal_db = get_portal_client()\n",
    "sales_client = get_sales_client()"
   ]
  },
  {
   "cell_type": "code",
   "execution_count": 4,
   "id": "7faf6f73",
   "metadata": {},
   "outputs": [],
   "source": [
    "placeholders = ', '.join(['%s'] * len(matched_ids))\n",
    "sales_client_df = sales_client.query_to_pandas(\n",
    "    f\"\"\"SELECT\n",
    "        name,\n",
    "        device_id,\n",
    "        client_id,\n",
    "        start_date,\n",
    "        COALESCE(cancel_date, expiry_date) AS end_date\n",
    "    FROM sales.t_subscription\n",
    "    LEFT JOIN sales.t_orders\n",
    "    USING(order_number)\n",
    "    LEFT JOIN sales.t_cancellation\n",
    "    USING(subscription_id)\n",
    "    LEFT JOIN sales.t_client\n",
    "    USING(client_id)\n",
    "    WHERE client_id NOT IN ({placeholders})\n",
    "    AND start_date < CURDATE()\"\"\",\n",
    "    params=matched_ids\n",
    ")"
   ]
  },
  {
   "cell_type": "code",
   "execution_count": 5,
   "id": "25fb01ea",
   "metadata": {},
   "outputs": [],
   "source": [
    "for (client_id, name), client_df in sales_client_df.groupby([\"client_id\", \"name\"]):\n",
    "    # Process each group for the client\n",
    "    print(f\"Client ID: {client_id}, Name: {name}\")\n",
    "    sales_device_list = client_df[\"device_id\"].unique().tolist()\n",
    "    placeholders = ', '.join(['%s'] * len(sales_device_list))\n",
    "    portal_devices_df = portal_db.query_to_pandas(\n",
    "        f\"\"\"SELECT\n",
    "            device_serial,\n",
    "            client_id,\n",
    "            created_at,\n",
    "            deleted_at\n",
    "        FROM topaz.api_devices\n",
    "        WHERE device_serial IN ({placeholders})\"\"\",\n",
    "        sales_device_list\n",
    "    )\n",
    "    allowed_matches = {}\n",
    "    for sales_device in client_df[\"device_id\"].unique():\n",
    "        if sum(portal_devices_df[\"device_serial\"] == sales_device) == 0:\n",
    "            print(f\"Device {sales_device} not found in portal devices.\")\n",
    "            continue\n",
    "        display(client_df[client_df[\"device_id\"] == sales_device])\n",
    "        display(portal_devices_df[portal_devices_df[\"device_serial\"] == sales_device])\n",
    "        client_ids = portal_devices_df[\n",
    "            portal_devices_df[\"device_serial\"] == sales_device\n",
    "        ][\"client_id\"].unique().tolist()\n",
    "        placeholders = ', '.join(['%s'] * len(client_ids))\n",
    "        recursion_df = portal_db.query_to_pandas(\n",
    "            f\"\"\"WITH RECURSIVE category_path AS (\n",
    "            SELECT id, name, parent_id, 0 AS depth\n",
    "            FROM api_clients\n",
    "            WHERE id IN ({placeholders})\n",
    "\n",
    "            UNION ALL\n",
    "\n",
    "            SELECT c.id, c.name, c.parent_id, cp.depth + 1\n",
    "            FROM api_clients c\n",
    "            INNER JOIN category_path cp ON c.id = cp.parent_id\n",
    "            )\n",
    "            SELECT * FROM category_path;\"\"\",\n",
    "            client_ids\n",
    "        )\n",
    "        display(recursion_df)\n",
    "        for _, row in recursion_df.iterrows():\n",
    "            if row[\"id\"] not in allowed_matches:\n",
    "                allowed_matches[row[\"id\"]] = row[\"name\"]\n",
    "    sys.stdout.flush()\n",
    "    user_input = input(\"What is the match: \")\n",
    "    if user_input == \"skip\":\n",
    "        print(\"Skipping this match.\")\n",
    "    else:\n",
    "        new_client = Client(\n",
    "            sales_id=client_id,\n",
    "            portal_id=user_input,\n",
    "        )\n",
    "        session.add(new_client)\n",
    "        session.commit()\n",
    "    clear_output(wait=True)"
   ]
  }
 ],
 "metadata": {
  "kernelspec": {
   "display_name": "data-testing-env",
   "language": "python",
   "name": "python3"
  },
  "language_info": {
   "codemirror_mode": {
    "name": "ipython",
    "version": 3
   },
   "file_extension": ".py",
   "mimetype": "text/x-python",
   "name": "python",
   "nbconvert_exporter": "python",
   "pygments_lexer": "ipython3",
   "version": "3.11.11"
  }
 },
 "nbformat": 4,
 "nbformat_minor": 5
}
