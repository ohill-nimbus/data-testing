{
 "cells": [
  {
   "cell_type": "code",
   "execution_count": null,
   "id": "26cb47ac",
   "metadata": {},
   "outputs": [],
   "source": [
    "import sys\n",
    "\n",
    "sys.path.append(\"..\")\n",
    "\n",
    "from src.auth.aurora import get_sales_client, get_portal_client\n"
   ]
  },
  {
   "cell_type": "code",
   "execution_count": null,
   "id": "4193ef20",
   "metadata": {},
   "outputs": [],
   "source": [
    "sales_client = get_sales_client()\n",
    "sales_hardware_df = sales_client.query_to_pandas(\n",
    "    \"\"\"SELECT\n",
    "        h.device_id,\n",
    "        s.subscription_type,\n",
    "        s.start_date,\n",
    "        s.expiry_date,\n",
    "        h.unit_price,\n",
    "        (\n",
    "            CASE WHEN s.pay_frequency = \"Monthly\" THEN s.unit_price\n",
    "            ELSE s.unit_price / s.contract_term\n",
    "            END\n",
    "        ) AS mrr\n",
    "    FROM sales.t_hardware AS h\n",
    "    LEFT JOIN sales.t_subscription AS s\n",
    "    ON h.device_id = s.device_id\n",
    "    WHERE h.status = \"Dispatched\"\n",
    "    AND h.device_id IS NOT NULL\n",
    "\"\"\",\n",
    ")\n",
    "sales_serials = sales_hardware_df[\"device_id\"].unique().tolist()\n",
    "sales_hardware_df.set_index(\"device_id\", inplace=True)"
   ]
  },
  {
   "cell_type": "code",
   "execution_count": null,
   "id": "f6edc1a2",
   "metadata": {},
   "outputs": [],
   "source": [
    "portal_client = get_portal_client()\n",
    "placeholders = ', '.join(['%s'] * len(sales_serials))\n",
    "portal_hardware_df = portal_client.query_to_pandas(\n",
    "    f\"\"\"SELECT device_serial, client_id\n",
    "    FROM topaz.api_devices AS d\n",
    "    LEFT JOIN topaz.api_device_types AS t\n",
    "    ON d.device_type_id = t.id\n",
    "    WHERE active = 1\n",
    "    AND device_serial IN ({placeholders})\"\"\",\n",
    "    params=sales_serials\n",
    ")\n",
    "portal_hardware_df.set_index(\"device_serial\", inplace=True)"
   ]
  },
  {
   "cell_type": "code",
   "execution_count": 30,
   "id": "6ab5dd32",
   "metadata": {},
   "outputs": [],
   "source": [
    "full_hardware_df = sales_hardware_df.join(\n",
    "    portal_hardware_df,\n",
    "    how=\"inner\",\n",
    ")"
   ]
  },
  {
   "cell_type": "code",
   "execution_count": 35,
   "id": "13e5c72e",
   "metadata": {},
   "outputs": [],
   "source": [
    "import datetime"
   ]
  },
  {
   "cell_type": "code",
   "execution_count": 37,
   "id": "2cf250c7",
   "metadata": {},
   "outputs": [
    {
     "data": {
      "text/plain": [
       "device_id\n",
       "40972        False\n",
       "40972        False\n",
       "40990         True\n",
       "40990        False\n",
       "40990        False\n",
       "             ...  \n",
       "C01-00710     True\n",
       "C01-00740    False\n",
       "C01-00783    False\n",
       "G01-01287     True\n",
       "G01-01295     True\n",
       "Name: expiry_date, Length: 4913, dtype: bool"
      ]
     },
     "execution_count": 37,
     "metadata": {},
     "output_type": "execute_result"
    }
   ],
   "source": [
    "full_hardware_df[\"expiry_date\"] >= datetime.date.today()"
   ]
  },
  {
   "cell_type": "code",
   "execution_count": 17,
   "id": "177f3e3f",
   "metadata": {},
   "outputs": [],
   "source": [
    "root_client_df = portal_client.query_to_pandas(\n",
    "    \"\"\"WITH RECURSIVE category_path AS (\n",
    "    SELECT id, name, parent_id, id AS root_id\n",
    "    FROM api_clients\n",
    "    WHERE parent_id = 1\n",
    "    AND deleted_at IS NULL\n",
    "\n",
    "    UNION ALL\n",
    "\n",
    "    SELECT c.id, c.name, c.parent_id, cp.root_id AS root_id\n",
    "    FROM api_clients c\n",
    "    INNER JOIN category_path cp ON cp.id = c.parent_id\n",
    "    AND deleted_at IS NULL\n",
    "    )\n",
    "    SELECT root_id, COUNT(DISTINCT user_id) AS user_cnt\n",
    "    FROM category_path cp\n",
    "    LEFT JOIN api_collaborators col\n",
    "    ON cp.id = col.client_id\n",
    "    WHERE col.deleted_at IS NULL\n",
    "    GROUP BY root_id\"\"\",\n",
    ")"
   ]
  },
  {
   "cell_type": "code",
   "execution_count": 18,
   "id": "e1793885",
   "metadata": {},
   "outputs": [
    {
     "data": {
      "text/html": [
       "<div>\n",
       "<style scoped>\n",
       "    .dataframe tbody tr th:only-of-type {\n",
       "        vertical-align: middle;\n",
       "    }\n",
       "\n",
       "    .dataframe tbody tr th {\n",
       "        vertical-align: top;\n",
       "    }\n",
       "\n",
       "    .dataframe thead th {\n",
       "        text-align: right;\n",
       "    }\n",
       "</style>\n",
       "<table border=\"1\" class=\"dataframe\">\n",
       "  <thead>\n",
       "    <tr style=\"text-align: right;\">\n",
       "      <th></th>\n",
       "      <th>root_id</th>\n",
       "      <th>user_cnt</th>\n",
       "    </tr>\n",
       "  </thead>\n",
       "  <tbody>\n",
       "    <tr>\n",
       "      <th>0</th>\n",
       "      <td>2</td>\n",
       "      <td>63</td>\n",
       "    </tr>\n",
       "    <tr>\n",
       "      <th>1</th>\n",
       "      <td>11</td>\n",
       "      <td>6</td>\n",
       "    </tr>\n",
       "    <tr>\n",
       "      <th>2</th>\n",
       "      <td>12</td>\n",
       "      <td>16</td>\n",
       "    </tr>\n",
       "    <tr>\n",
       "      <th>3</th>\n",
       "      <td>13</td>\n",
       "      <td>651</td>\n",
       "    </tr>\n",
       "    <tr>\n",
       "      <th>4</th>\n",
       "      <td>14</td>\n",
       "      <td>2</td>\n",
       "    </tr>\n",
       "    <tr>\n",
       "      <th>...</th>\n",
       "      <td>...</td>\n",
       "      <td>...</td>\n",
       "    </tr>\n",
       "    <tr>\n",
       "      <th>605</th>\n",
       "      <td>32220</td>\n",
       "      <td>0</td>\n",
       "    </tr>\n",
       "    <tr>\n",
       "      <th>606</th>\n",
       "      <td>32324</td>\n",
       "      <td>1</td>\n",
       "    </tr>\n",
       "    <tr>\n",
       "      <th>607</th>\n",
       "      <td>32463</td>\n",
       "      <td>6</td>\n",
       "    </tr>\n",
       "    <tr>\n",
       "      <th>608</th>\n",
       "      <td>32464</td>\n",
       "      <td>1</td>\n",
       "    </tr>\n",
       "    <tr>\n",
       "      <th>609</th>\n",
       "      <td>32482</td>\n",
       "      <td>1</td>\n",
       "    </tr>\n",
       "  </tbody>\n",
       "</table>\n",
       "<p>610 rows × 2 columns</p>\n",
       "</div>"
      ],
      "text/plain": [
       "     root_id  user_cnt\n",
       "0          2        63\n",
       "1         11         6\n",
       "2         12        16\n",
       "3         13       651\n",
       "4         14         2\n",
       "..       ...       ...\n",
       "605    32220         0\n",
       "606    32324         1\n",
       "607    32463         6\n",
       "608    32464         1\n",
       "609    32482         1\n",
       "\n",
       "[610 rows x 2 columns]"
      ]
     },
     "execution_count": 18,
     "metadata": {},
     "output_type": "execute_result"
    }
   ],
   "source": [
    "root_client_df"
   ]
  }
 ],
 "metadata": {
  "kernelspec": {
   "display_name": "data-testing-env",
   "language": "python",
   "name": "python3"
  },
  "language_info": {
   "codemirror_mode": {
    "name": "ipython",
    "version": 3
   },
   "file_extension": ".py",
   "mimetype": "text/x-python",
   "name": "python",
   "nbconvert_exporter": "python",
   "pygments_lexer": "ipython3",
   "version": "3.11.11"
  }
 },
 "nbformat": 4,
 "nbformat_minor": 5
}
