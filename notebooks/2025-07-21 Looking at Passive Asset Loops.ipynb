{
 "cells": [
  {
   "cell_type": "code",
   "execution_count": 1,
   "id": "ac7ccea7",
   "metadata": {},
   "outputs": [],
   "source": [
    "import numpy as np\n",
    "import sys\n",
    "\n",
    "sys.path.append(\"..\")\n",
    "\n",
    "from src.auth.aurora import get_portal_client"
   ]
  },
  {
   "cell_type": "code",
   "execution_count": 2,
   "id": "4e5b9f44",
   "metadata": {},
   "outputs": [],
   "source": [
    "portal_client = get_portal_client()"
   ]
  },
  {
   "cell_type": "code",
   "execution_count": 3,
   "id": "1a39e228",
   "metadata": {},
   "outputs": [],
   "source": [
    "asset_protocols = portal_client.query_to_pandas(\n",
    "    \"\"\"SELECT\n",
    "        protocol_id,\n",
    "        SUM(\n",
    "            CASE WHEN panel_model_id IS NULL\n",
    "            THEN 1 ELSE 0 END\n",
    "        ) / COUNT(*) AS pct\n",
    "    FROM topaz.api_sites AS s\n",
    "    GROUP BY protocol_id\n",
    "    HAVING pct = 1\n",
    "    ORDER BY protocol_id\n",
    "    \"\"\"\n",
    ")"
   ]
  },
  {
   "cell_type": "code",
   "execution_count": 4,
   "id": "f0c7f22d",
   "metadata": {},
   "outputs": [
    {
     "name": "stdout",
     "output_type": "stream",
     "text": [
      "Protocol: 25\n",
      "[]\n",
      "Protocol: 34\n",
      "[1, None, 0, 2, 43, 34, 33, 23, 26, 25, 53, 54, 31, 32, 11, 24, 37, 22, 7, 30, 19, 41, 8, 39, 28, 3, 15, 6, 38, 14, 20, 12, 13, 16, 10, 36, 5, 40, 9, 29, 27, 21, 17, 4, 35, 44, 42, 18, 45, 46, 47, 48, 49, 50, 51, 52, 55, 56, 57, 58, 59, 60, 61, 62, 63, 64, 65, 66, 67, 71, 103, 104, 105, 106, 107, 108, 121, 138, 145, 150, 155, 158, 101, 201, 1001, 91, 68, 69, 70, 72, 73, 74, 75, 76, 77, 78, 79, 80, 81, 82, 83, 84, 85, 86, 87, 88, 89, 90, 92, 93]\n",
      "Protocol: 35\n",
      "[0, None, 1]\n",
      "Protocol: 36\n",
      "[0, 1, 2, 3, 4, 5, None]\n",
      "Protocol: 37\n",
      "[1, 2, 3, 4, 6, 5, 8, 27, 7, 9, 13, 17, 20, 19, 18, 16, 15, 14, 12, 11, 10, 0, 21, 24, 25, 26, 29, 23, 22, None, 28, 35, 34, 32, 99, 100, 102, 101, 1000, 50, 49, 48, 200]\n",
      "Protocol: 50\n",
      "[0]\n"
     ]
    }
   ],
   "source": [
    "for protocol_id in asset_protocols[\"protocol_id\"]:\n",
    "    distinct_loops = portal_client.query_to_list(\n",
    "        \"\"\"SELECT DISTINCT `loop` FROM topaz.api_sites AS s\n",
    "        INNER JOIN topaz.api_service_tests AS t\n",
    "        ON s.id = t.site_id\n",
    "        WHERE protocol_id =%(protocol_id)s\"\"\",\n",
    "        {\"protocol_id\": protocol_id},\n",
    "    )\n",
    "    print(f\"Protocol: {protocol_id}\")\n",
    "    print(distinct_loops)"
   ]
  }
 ],
 "metadata": {
  "kernelspec": {
   "display_name": "data-testing-env",
   "language": "python",
   "name": "python3"
  },
  "language_info": {
   "codemirror_mode": {
    "name": "ipython",
    "version": 3
   },
   "file_extension": ".py",
   "mimetype": "text/x-python",
   "name": "python",
   "nbconvert_exporter": "python",
   "pygments_lexer": "ipython3",
   "version": "3.11.11"
  }
 },
 "nbformat": 4,
 "nbformat_minor": 5
}
