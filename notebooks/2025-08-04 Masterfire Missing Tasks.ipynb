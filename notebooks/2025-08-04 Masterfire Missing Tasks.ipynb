{
 "cells": [
  {
   "cell_type": "code",
   "execution_count": 1,
   "id": "a10c890e",
   "metadata": {},
   "outputs": [],
   "source": [
    "import pandas as pd\n",
    "import sys\n",
    "\n",
    "sys.path.append(\"..\")\n",
    "\n",
    "from src.auth.aurora import get_portal_client"
   ]
  },
  {
   "cell_type": "code",
   "execution_count": 2,
   "id": "98d76df9",
   "metadata": {},
   "outputs": [],
   "source": [
    "portal_client = get_portal_client()"
   ]
  },
  {
   "cell_type": "code",
   "execution_count": 3,
   "id": "b3565e11",
   "metadata": {},
   "outputs": [],
   "source": [
    "sites_list = portal_client.query_to_pandas(\n",
    "    \"\"\"WITH RECURSIVE category_path AS (\n",
    "    SELECT id, name, parent_id, 0 AS depth\n",
    "    FROM api_clients\n",
    "    WHERE id = 118\n",
    "\n",
    "    UNION ALL\n",
    "\n",
    "    SELECT c.id, c.name, c.parent_id, cp.depth + 1\n",
    "    FROM api_clients c\n",
    "    INNER JOIN category_path cp ON cp.id = c.parent_id\n",
    "    )\n",
    "    SELECT category_path.id AS client_id, site.id AS site_id\n",
    "    FROM category_path\n",
    "    INNER JOIN topaz.api_sites AS site\n",
    "    ON category_path.id = site.client_id\n",
    "    WHERE toc_id IS NOT NULL\n",
    "    AND template_id IS NOT NULL\"\"\"\n",
    ").sort_values(\"site_id\")"
   ]
  },
  {
   "cell_type": "code",
   "execution_count": null,
   "id": "68fd1107",
   "metadata": {},
   "outputs": [],
   "source": [
    "missing_df = pd.read_csv(\"data/2025-08-04 Masterfire Missing Tasks New.csv\")"
   ]
  },
  {
   "cell_type": "code",
   "execution_count": null,
   "id": "5c01792f",
   "metadata": {},
   "outputs": [
    {
     "name": "stdout",
     "output_type": "stream",
     "text": [
      "4260\n"
     ]
    }
   ],
   "source": [
    "missing_sites = []\n",
    "for _, (client_id, site_id) in sites_list.iterrows():\n",
    "    if site_id in missing_df[\"site_id\"].values:\n",
    "        continue\n",
    "    print(site_id)\n",
    "    df = portal_client.query_to_pandas(\n",
    "        \"\"\"SELECT\n",
    "            DISTINCT test.id AS test_id\n",
    "        FROM topaz.api_service_tests AS test\n",
    "        INNER JOIN topaz.api_mode_changes AS mode_change\n",
    "        ON test.mode_change_id = mode_change.id\n",
    "        INNER JOIN topaz.api_sites AS site\n",
    "        ON test.site_id = site.id\n",
    "        INNER JOIN topaz.api_toc_rows AS toc\n",
    "        ON (mode_change.toc_id = toc.toc_id)\n",
    "        AND (\n",
    "            (test.domain = toc.domain) OR\n",
    "            (toc.domain IS NULL)\n",
    "        )\n",
    "        AND (\n",
    "            (test.panel = toc.panel) OR\n",
    "            (toc.panel IS NULL)\n",
    "        )\n",
    "        AND (\n",
    "            (test.loop = toc.loop) OR\n",
    "            (toc.loop IS NULL)\n",
    "        )\n",
    "        AND (test.address = toc.address)\n",
    "        AND (test.address_type = toc.address_type)\n",
    "        AND (\n",
    "            (\n",
    "                (\n",
    "                    (test.sub_address = '') OR\n",
    "                    (test.sub_address IS NULL)\n",
    "                ) AND (\n",
    "                    (toc.sub_address IS NULL) OR\n",
    "                    (toc.sub_address = 0)\n",
    "                )\n",
    "            ) OR\n",
    "            (test.sub_address = toc.sub_address)\n",
    "        )\n",
    "        AND test.created_at BETWEEN toc.created_at AND IFNULL(toc.deleted_at, CURRENT_TIMESTAMP())\n",
    "        INNER JOIN topaz.api_service_tasks AS task_template\n",
    "        ON task_template.template_id = site.template_id\n",
    "        AND (\n",
    "            (\n",
    "                (task_template.asset_type = toc.lcs_device_type)\n",
    "                AND (toc.lcs_device_type!= 'Other')\n",
    "            )\n",
    "            OR (\n",
    "                toc.lcs_device_type = 'Other'\n",
    "                AND (toc.type = task_template.asset_type)\n",
    "            )\n",
    "            OR (task_template.asset_type = '')\n",
    "            OR (\n",
    "                site.protocol_id = 34\n",
    "                AND asset_type = 'el'\n",
    "            )\n",
    "            OR (\n",
    "                site.protocol_id = 35\n",
    "                AND asset_type = 'ext'\n",
    "                AND toc.lcs_device_type != 'Other'\n",
    "                AND toc.type != 'Fire Blanket'\n",
    "            )\n",
    "        )\n",
    "        AND test.created_at BETWEEN task_template.created_at AND IFNULL(task_template.deleted_at, CURRENT_TIMESTAMP())\n",
    "        AND task_template.type IN (1,3)\n",
    "        LEFT JOIN topaz.api_service_tasks_record AS task_record\n",
    "        ON task_record.task_id = task_template.id\n",
    "        AND task_record.test_id = test.id\n",
    "        WHERE task_record.id IS NULL\n",
    "        AND site.id = %(site_id)s\n",
    "        LIMIT 1\n",
    "        \"\"\",\n",
    "        {\"site_id\": site_id}\n",
    "    )\n",
    "    if df.empty:\n",
    "        new_row = pd.DataFrame({\"site_id\": [site_id], \"missing\": [0]})\n",
    "    else:\n",
    "        print(\"-------> has missing tasks\")\n",
    "        new_row = pd.DataFrame({\"site_id\": [site_id], \"missing\": [1]})\n",
    "    missing_df = pd.concat([missing_df, new_row])\n",
    "    missing_df.to_csv(\"data/2025-08-04 Masterfire Missing Tasks New 2024.csv\", index=False)"
   ]
  }
 ],
 "metadata": {
  "kernelspec": {
   "display_name": "data-testing-env",
   "language": "python",
   "name": "python3"
  },
  "language_info": {
   "codemirror_mode": {
    "name": "ipython",
    "version": 3
   },
   "file_extension": ".py",
   "mimetype": "text/x-python",
   "name": "python",
   "nbconvert_exporter": "python",
   "pygments_lexer": "ipython3",
   "version": "3.11.11"
  }
 },
 "nbformat": 4,
 "nbformat_minor": 5
}
