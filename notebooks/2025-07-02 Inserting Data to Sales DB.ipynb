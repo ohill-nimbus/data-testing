{
 "cells": [
  {
   "cell_type": "code",
   "execution_count": 1,
   "id": "d407f5bc",
   "metadata": {},
   "outputs": [],
   "source": [
    "from IPython.display import clear_output\n",
    "from bidict import bidict\n",
    "from sentence_transformers import SentenceTransformer, util\n",
    "from sqlalchemy import select\n",
    "import os\n",
    "import sys\n",
    "\n",
    "sys.path.append(\"..\")\n",
    "\n",
    "from src.auth.aurora import get_sales_client, MySQL\n",
    "from src.db.database import session\n",
    "from src.db.models import Client"
   ]
  },
  {
   "cell_type": "code",
   "execution_count": 2,
   "id": "b0981003",
   "metadata": {},
   "outputs": [],
   "source": [
    "sales_db = get_sales_client()\n",
    "table = \"t_portal_match\""
   ]
  },
  {
   "cell_type": "code",
   "execution_count": 3,
   "id": "8126922c",
   "metadata": {},
   "outputs": [],
   "source": [
    "all_clients = sales_db.execute_query_dict(\n",
    "    f\"SELECT * FROM {table}\"\n",
    ")"
   ]
  },
  {
   "cell_type": "code",
   "execution_count": 4,
   "id": "76ac1b36",
   "metadata": {},
   "outputs": [],
   "source": [
    "host = os.environ['SALES_DB_HOST']\n",
    "user = os.environ['SALES_DB_USER']\n",
    "password = os.environ['SALES_DB_PASS']\n",
    "database = os.environ['SALES_DB_NAME']\n",
    "local_sales_db = MySQL(host, user, password, database, 3307)"
   ]
  },
  {
   "cell_type": "code",
   "execution_count": 5,
   "id": "5e5d16e9",
   "metadata": {},
   "outputs": [],
   "source": [
    "\n",
    "local_sales_db.insert_rows(table=table, data=all_clients)"
   ]
  }
 ],
 "metadata": {
  "kernelspec": {
   "display_name": "data-testing-env",
   "language": "python",
   "name": "python3"
  },
  "language_info": {
   "codemirror_mode": {
    "name": "ipython",
    "version": 3
   },
   "file_extension": ".py",
   "mimetype": "text/x-python",
   "name": "python",
   "nbconvert_exporter": "python",
   "pygments_lexer": "ipython3",
   "version": "3.11.11"
  }
 },
 "nbformat": 4,
 "nbformat_minor": 5
}
