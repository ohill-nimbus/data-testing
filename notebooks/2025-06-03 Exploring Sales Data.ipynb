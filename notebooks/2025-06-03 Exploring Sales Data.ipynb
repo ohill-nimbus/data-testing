{
 "cells": [
  {
   "cell_type": "code",
   "execution_count": null,
   "id": "26cb47ac",
   "metadata": {},
   "outputs": [],
   "source": [
    "from sentence_transformers import SentenceTransformer, util\n",
    "import sys\n",
    "\n",
    "sys.path.append(\"..\")\n",
    "\n",
    "from src.auth.aurora import get_sales_client, get_portal_client"
   ]
  },
  {
   "cell_type": "code",
   "execution_count": null,
   "id": "2b82767d",
   "metadata": {},
   "outputs": [],
   "source": [
    "sales_client = get_sales_client()\n",
    "sales_client_df = sales_client.query_to_pandas(\"SELECT * FROM t_client\")"
   ]
  },
  {
   "cell_type": "code",
   "execution_count": null,
   "id": "c520682d",
   "metadata": {},
   "outputs": [],
   "source": [
    "portal_client = get_portal_client()\n",
    "portal_client_df = portal_client.query_to_pandas(\"SELECT * FROM api_clients WHERE parent_id = 1\")"
   ]
  },
  {
   "cell_type": "code",
   "execution_count": null,
   "id": "11fdc711",
   "metadata": {},
   "outputs": [],
   "source": [
    "model = SentenceTransformer('all-MiniLM-L6-v2')\n",
    "\n",
    "def get_embedding_dict(client_df):\n",
    "    client_names = client_df[\"name\"].to_list()\n",
    "    embeddings = model.encode(client_names, convert_to_tensor=True)\n",
    "    sales_embeddings = {\n",
    "        client_name: embedding\n",
    "        for client_name, embedding\n",
    "        in zip(client_names, embeddings)\n",
    "    }\n",
    "    return sales_embeddings"
   ]
  },
  {
   "cell_type": "code",
   "execution_count": null,
   "id": "b7e1e475",
   "metadata": {},
   "outputs": [],
   "source": [
    "sales_embeddings = get_embedding_dict(sales_client_df)\n",
    "portal_embeddings = get_embedding_dict(portal_client_df)"
   ]
  },
  {
   "cell_type": "code",
   "execution_count": null,
   "id": "1efe9cd0",
   "metadata": {},
   "outputs": [],
   "source": [
    "for sales_name, sales_embedding in sales_embeddings.items():\n",
    "    similarity_dict = {}\n",
    "    print(sales_name)\n",
    "    for portal_name, portal_embedding in portal_embeddings.items():\n",
    "        similarity = util.pytorch_cos_sim(sales_embedding, portal_embedding)\n",
    "        similarity_dict[portal_name] = similarity.item()\n",
    "    for name, score in sorted(\n",
    "        similarity_dict.items(), key=lambda item: item[1], reverse=True\n",
    "    )[:5]:\n",
    "        print(f\"------> {name} = {score}\")"
   ]
  }
 ],
 "metadata": {
  "kernelspec": {
   "display_name": "data-testing-env",
   "language": "python",
   "name": "python3"
  },
  "language_info": {
   "codemirror_mode": {
    "name": "ipython",
    "version": 3
   },
   "file_extension": ".py",
   "mimetype": "text/x-python",
   "name": "python",
   "nbconvert_exporter": "python",
   "pygments_lexer": "ipython3",
   "version": "3.11.11"
  }
 },
 "nbformat": 4,
 "nbformat_minor": 5
}
